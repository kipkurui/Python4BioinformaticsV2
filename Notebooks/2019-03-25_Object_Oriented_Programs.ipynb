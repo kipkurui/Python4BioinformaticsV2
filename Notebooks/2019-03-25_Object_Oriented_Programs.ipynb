{
 "cells": [
  {
   "cell_type": "markdown",
   "metadata": {},
   "source": [
    "# Object-Oriented Programming"
   ]
  },
  {
   "cell_type": "markdown",
   "metadata": {},
   "source": [
    "Object-Oriented Programming (commonly referred to as OOP) is one of many programming styles, or paradigms. \n",
    "\n",
    "There are many paradigms, but they are all equivalent at one level: they all compute the same things. However, they do so in very different ways. In fact, these paradigms can be more different than (perhaps) any two human languages. \n",
    "\n",
    "Let's briefly look at three paradigms:\n",
    "\n",
    "* Imperative programming\n",
    "* Functional programming\n",
    "* Object-Oriented programming"
   ]
  },
  {
   "cell_type": "markdown",
   "metadata": {},
   "source": [
    "# Programming Paradigms"
   ]
  },
  {
   "cell_type": "markdown",
   "metadata": {},
   "source": [
    "## Imperative Programming"
   ]
  },
  {
   "cell_type": "markdown",
   "metadata": {},
   "source": [
    "What you have been doing up to this point.\n",
    "\n",
    "> **imperative program** consists of commands for the computer to perform. - [wikipedia](https://en.wikipedia.org/wiki/Imperative_programming)\n",
    "\n",
    "This is the standard programming style: you program in a way that makes it transparent what the computer is doing."
   ]
  },
  {
   "cell_type": "code",
   "execution_count": 4,
   "metadata": {},
   "outputs": [],
   "source": [
    "def factorial(n: int):\n",
    "    '''Returns factorial for a number given'''\n",
    "    fact = 1\n",
    "    for i in range(1, n+1):\n",
    "        fact = fact * i\n",
    "    return fact"
   ]
  },
  {
   "cell_type": "code",
   "execution_count": 8,
   "metadata": {},
   "outputs": [
    {
     "data": {
      "text/plain": [
       "6"
      ]
     },
     "execution_count": 8,
     "metadata": {},
     "output_type": "execute_result"
    }
   ],
   "source": [
    "factorial(3)"
   ]
  },
  {
   "cell_type": "markdown",
   "metadata": {},
   "source": [
    "Imperative programming is generally:\n",
    "\n",
    "* straightforward\n",
    "* transparent\n",
    "* has minimal abstractions\n",
    "* often seen as being closely aligned with the hardware\n",
    "\n",
    "Example programming languages:\n",
    "\n",
    "1. Assembly language\n",
    "2. C"
   ]
  },
  {
   "cell_type": "markdown",
   "metadata": {},
   "source": [
    "## Functional Programming"
   ]
  },
  {
   "cell_type": "markdown",
   "metadata": {},
   "source": [
    "> **functional programming** is a programming paradigm---a style of building the structure and elements of computer programs---that treats computation as the evaluation of mathematical functions and avoids changing-state and mutable data. - [wikipedia](https://en.wikipedia.org/wiki/Functional_programming)\n",
    "\n",
    "In this paradigm, one computes in a manner that looks more like abstract mathematics:\n",
    "\n",
    "<img src=\"ycombinator.png\"></img>\n",
    "\n",
    "Python has some support for writing code in this manner, but other languages (such as Scheme, Scala, Haskell, and OCaml) are designed for it."
   ]
  },
  {
   "cell_type": "code",
   "execution_count": null,
   "metadata": {},
   "outputs": [],
   "source": [
    "# recursive factorial\n"
   ]
  },
  {
   "cell_type": "markdown",
   "metadata": {},
   "source": [
    "## Object Oriented Programming (OOP)"
   ]
  },
  {
   "cell_type": "markdown",
   "metadata": {},
   "source": [
    "> **Object-oriented programming** ... is a programming paradigm based on the concept of \"objects\", which may contain data, in the form of fields, often known as attributes; and code, in the form of procedures, often known as methods. A distinguishing feature of objects is that an object's procedures can access and often modify the data fields of the object with which they are associated (objects have a notion of \"this\" or \"self\"). - [wikipedia](https://en.wikipedia.org/wiki/Object-oriented_programming)\n",
    "\n",
    "A way of organizing code, properties, and functionality based on objects:\n",
    "\n",
    "* Objects\n",
    " * data (fields, properties, attributes)\n",
    " * code (methods)\n",
    " * self\n",
    " \n",
    "We have seen the need for this before:\n",
    "\n",
    "* `(12.0, 40.0, 48.0)`\n",
    "* `array[0][1]`"
   ]
  },
  {
   "cell_type": "code",
   "execution_count": null,
   "metadata": {},
   "outputs": [],
   "source": [
    "x = \"abc\""
   ]
  },
  {
   "cell_type": "code",
   "execution_count": null,
   "metadata": {},
   "outputs": [],
   "source": [
    "x.upper()"
   ]
  },
  {
   "cell_type": "markdown",
   "metadata": {},
   "source": [
    "## Examples"
   ]
  },
  {
   "cell_type": "markdown",
   "metadata": {},
   "source": [
    "### Imperative programming"
   ]
  },
  {
   "cell_type": "code",
   "execution_count": 9,
   "metadata": {},
   "outputs": [],
   "source": [
    "person1 = (\"Josh\", \"Bryn Mawr College\", \"faculty\")\n",
    "person2 = (\"Tamara\", \"Bryn Mawr College\", \"faculty\")\n",
    "person3 = (\"Yuying\", \"Bryn Mawr College\", \"student\")\n",
    "person4 = (\"Hemma\", \"Bryn Mawr College\", \"student\")\n",
    "person5 = (\"Patty\", \"Bryn Mawr College\", \"student\")\n",
    "person6 = (\"Sorelle\", \"Haverford College\", \"faculty\")\n"
   ]
  },
  {
   "cell_type": "code",
   "execution_count": 10,
   "metadata": {},
   "outputs": [],
   "source": [
    "my_lab = [person1, person2, person3, person4, person5, person6]"
   ]
  },
  {
   "cell_type": "code",
   "execution_count": 11,
   "metadata": {},
   "outputs": [
    {
     "data": {
      "text/plain": [
       "[('Josh', 'Bryn Mawr College', 'faculty'),\n",
       " ('Tamara', 'Bryn Mawr College', 'faculty'),\n",
       " ('Yuying', 'Bryn Mawr College', 'student'),\n",
       " ('Hemma', 'Bryn Mawr College', 'student'),\n",
       " ('Patty', 'Bryn Mawr College', 'student'),\n",
       " ('Sorelle', 'Haverford College', 'faculty')]"
      ]
     },
     "execution_count": 11,
     "metadata": {},
     "output_type": "execute_result"
    }
   ],
   "source": [
    "my_lab"
   ]
  },
  {
   "cell_type": "code",
   "execution_count": 12,
   "metadata": {},
   "outputs": [],
   "source": [
    "def get_role(group, role):\n",
    "    ..."
   ]
  },
  {
   "cell_type": "code",
   "execution_count": 13,
   "metadata": {},
   "outputs": [],
   "source": [
    "get_role(my_lab, \"student\")"
   ]
  },
  {
   "cell_type": "code",
   "execution_count": null,
   "metadata": {},
   "outputs": [],
   "source": []
  },
  {
   "cell_type": "code",
   "execution_count": null,
   "metadata": {},
   "outputs": [],
   "source": []
  },
  {
   "cell_type": "code",
   "execution_count": null,
   "metadata": {},
   "outputs": [],
   "source": [
    "def get_college(group, college):\n"
   ]
  },
  {
   "cell_type": "code",
   "execution_count": null,
   "metadata": {},
   "outputs": [],
   "source": [
    "get_college(my_lab, \"Haverford College\")"
   ]
  },
  {
   "cell_type": "markdown",
   "metadata": {},
   "source": [
    "Get students from Bryn Mawr, this gets a bit ugly..."
   ]
  },
  {
   "cell_type": "code",
   "execution_count": null,
   "metadata": {},
   "outputs": [],
   "source": []
  },
  {
   "cell_type": "markdown",
   "metadata": {},
   "source": [
    "# OOP"
   ]
  },
  {
   "cell_type": "markdown",
   "metadata": {},
   "source": [
    "Create a new type, or class:\n",
    "\n",
    "Traditionally, class names are capitalized, and they are defined with the `class` statement (much like a `def` statement defines a function.)"
   ]
  },
  {
   "cell_type": "code",
   "execution_count": 14,
   "metadata": {},
   "outputs": [],
   "source": [
    "class Person:\n",
    "    \"A class to hold a person\""
   ]
  },
  {
   "cell_type": "code",
   "execution_count": 15,
   "metadata": {},
   "outputs": [],
   "source": [
    "p1 = Person()\n",
    "p2 = Person()"
   ]
  },
  {
   "cell_type": "code",
   "execution_count": 16,
   "metadata": {},
   "outputs": [
    {
     "data": {
      "text/plain": [
       "__main__.Person"
      ]
     },
     "execution_count": 16,
     "metadata": {},
     "output_type": "execute_result"
    }
   ],
   "source": [
    "type(p2)"
   ]
  },
  {
   "cell_type": "markdown",
   "metadata": {},
   "source": [
    "In this jargon, `p1` and `p2` are called \"instances\" of the Person class/type."
   ]
  },
  {
   "cell_type": "markdown",
   "metadata": {},
   "source": [
    "## Adding an attribute"
   ]
  },
  {
   "cell_type": "code",
   "execution_count": 17,
   "metadata": {},
   "outputs": [],
   "source": [
    "p1.name = \"Josh\""
   ]
  },
  {
   "cell_type": "code",
   "execution_count": null,
   "metadata": {},
   "outputs": [],
   "source": []
  },
  {
   "cell_type": "code",
   "execution_count": 19,
   "metadata": {},
   "outputs": [],
   "source": [
    "p1.age = 34"
   ]
  },
  {
   "cell_type": "code",
   "execution_count": null,
   "metadata": {},
   "outputs": [],
   "source": []
  },
  {
   "cell_type": "code",
   "execution_count": null,
   "metadata": {},
   "outputs": [],
   "source": []
  },
  {
   "cell_type": "code",
   "execution_count": null,
   "metadata": {},
   "outputs": [],
   "source": []
  },
  {
   "cell_type": "markdown",
   "metadata": {},
   "source": [
    "## Constructor"
   ]
  },
  {
   "cell_type": "markdown",
   "metadata": {},
   "source": [
    "Constructors are functions that are called when you create a new instance. Always has the name `__init__()`"
   ]
  },
  {
   "cell_type": "code",
   "execution_count": null,
   "metadata": {},
   "outputs": [],
   "source": [
    "class Person:\n",
    "    \"A class to hold a person\"\n",
    "    def __init__(self, name, college, role):\n",
    "        self.name = name\n",
    "        self.college = college\n",
    "        self.role = role"
   ]
  },
  {
   "cell_type": "code",
   "execution_count": null,
   "metadata": {},
   "outputs": [],
   "source": [
    "p1 = Person(\"Josh\", \"Bryn Mawr College\", \"faculty\")"
   ]
  },
  {
   "cell_type": "code",
   "execution_count": null,
   "metadata": {},
   "outputs": [],
   "source": [
    "p1.name"
   ]
  },
  {
   "cell_type": "code",
   "execution_count": null,
   "metadata": {},
   "outputs": [],
   "source": [
    "p1"
   ]
  },
  {
   "cell_type": "code",
   "execution_count": null,
   "metadata": {},
   "outputs": [],
   "source": [
    "p2 = Person(\"Yuying\", \"Bryn Mawr College\", \"student\")"
   ]
  },
  {
   "cell_type": "code",
   "execution_count": null,
   "metadata": {},
   "outputs": [],
   "source": [
    "p2.role"
   ]
  },
  {
   "cell_type": "markdown",
   "metadata": {},
   "source": [
    "## Methods"
   ]
  },
  {
   "cell_type": "markdown",
   "metadata": {},
   "source": [
    "A method is a function that is part of a class. Defined with `def` inside the class definition.|"
   ]
  },
  {
   "cell_type": "code",
   "execution_count": null,
   "metadata": {},
   "outputs": [],
   "source": [
    "class Person:\n",
    "    \"A class to hold a person\"\n",
    "    def __init__(self, name, college, role):\n",
    "        self.name = name\n",
    "        self.college = college\n",
    "        self.role = role\n",
    "        \n",
    "    def is_staff(self):\n",
    "        if self.role in [\"faculty\", \"TA\"]:\n",
    "            return True\n",
    "        else:\n",
    "            return False"
   ]
  },
  {
   "cell_type": "code",
   "execution_count": null,
   "metadata": {},
   "outputs": [],
   "source": [
    "p1 = Person(\"Josh\", \"Bryn Mawr College\", \"faculty\")"
   ]
  },
  {
   "cell_type": "code",
   "execution_count": null,
   "metadata": {},
   "outputs": [],
   "source": [
    "p1.is_staff()"
   ]
  },
  {
   "cell_type": "code",
   "execution_count": null,
   "metadata": {},
   "outputs": [],
   "source": [
    "p2 = Person(\"Yuying\", \"Bryn Mawr College\", \"student\")"
   ]
  },
  {
   "cell_type": "code",
   "execution_count": null,
   "metadata": {},
   "outputs": [],
   "source": [
    "p2.is_staff()"
   ]
  },
  {
   "cell_type": "code",
   "execution_count": null,
   "metadata": {},
   "outputs": [],
   "source": [
    "p2.role"
   ]
  },
  {
   "cell_type": "markdown",
   "metadata": {},
   "source": [
    "## Summary"
   ]
  },
  {
   "cell_type": "markdown",
   "metadata": {},
   "source": [
    "* classes/types are typically **nouns**\n",
    "* attributes are typically **adjectives**\n",
    "* methods are typically **verbs**\n",
    "* self is a **pronoun**\n",
    "\n",
    "Some conventions:\n",
    "\n",
    "* classes (almost) always start with uppercase letters\n",
    "* instances/variables almost always start with lowercase letters\n",
    "* Often: item = Item(), or item1 = Item()\n",
    "\n",
    "It takes some practice to be able to \"see\" abstractions in a problem. There is no right answer when breaking a problem into abstractions. \n",
    "\n",
    "Some abstractions:\n",
    "\n",
    "* allow easy programming\n",
    "* allow fast computation\n",
    "* are painful to use"
   ]
  },
  {
   "cell_type": "code",
   "execution_count": null,
   "metadata": {},
   "outputs": [],
   "source": [
    "class Course:\n",
    "    def __init__(self, course_number, home_college, \n",
    "                 instructor = None):\n",
    "        self.course_number = course_number\n",
    "        self.home_college = home_college\n",
    "        self.instructor = instructor\n",
    "        self.students = []\n",
    "    def addStudent(self, student):\n",
    "        if student in self.students:\n",
    "            print(\"Student\", student, \"is already in the class.\")\n",
    "        else:\n",
    "            self.students.append(student)\n",
    "    \n",
    "    def countStudents(self):\n",
    "        \"returns number of students in the class\"\n",
    "        return len(self.students)\n",
    "        \n",
    "        "
   ]
  },
  {
   "cell_type": "code",
   "execution_count": null,
   "metadata": {},
   "outputs": [],
   "source": [
    "bio115 = Course(\"BiolB115\", \"Bryn Mawr College\", \"Shapiro\")"
   ]
  },
  {
   "cell_type": "code",
   "execution_count": null,
   "metadata": {},
   "outputs": [],
   "source": [
    "bio115.instructor"
   ]
  },
  {
   "cell_type": "code",
   "execution_count": null,
   "metadata": {},
   "outputs": [],
   "source": [
    "bio115.addStudent(\"Lucy\")"
   ]
  },
  {
   "cell_type": "code",
   "execution_count": null,
   "metadata": {},
   "outputs": [],
   "source": [
    "bio115.students"
   ]
  },
  {
   "cell_type": "code",
   "execution_count": null,
   "metadata": {},
   "outputs": [],
   "source": [
    "bio115.addStudent(\"Lucy\")"
   ]
  },
  {
   "cell_type": "code",
   "execution_count": null,
   "metadata": {},
   "outputs": [],
   "source": [
    "bio115.students"
   ]
  },
  {
   "cell_type": "code",
   "execution_count": null,
   "metadata": {},
   "outputs": [],
   "source": [
    "bio115.addStudent(\"Maddie\")"
   ]
  },
  {
   "cell_type": "code",
   "execution_count": null,
   "metadata": {},
   "outputs": [],
   "source": [
    "bio115.countStudents()"
   ]
  },
  {
   "cell_type": "code",
   "execution_count": null,
   "metadata": {},
   "outputs": [],
   "source": [
    "bio115 * 2"
   ]
  },
  {
   "cell_type": "code",
   "execution_count": null,
   "metadata": {},
   "outputs": [],
   "source": []
  }
 ],
 "metadata": {
  "kernelspec": {
   "display_name": "Python 3 (ipykernel)",
   "language": "python",
   "name": "python3"
  },
  "language_info": {
   "codemirror_mode": {
    "name": "ipython",
    "version": 3
   },
   "file_extension": ".py",
   "mimetype": "text/x-python",
   "name": "python",
   "nbconvert_exporter": "python",
   "pygments_lexer": "ipython3",
   "version": "3.11.4"
  }
 },
 "nbformat": 4,
 "nbformat_minor": 4
}
