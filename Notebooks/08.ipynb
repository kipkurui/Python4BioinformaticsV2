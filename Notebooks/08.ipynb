{
 "cells": [
  {
   "cell_type": "markdown",
   "metadata": {},
   "source": "<small><small><i>\nIntroduction to Python for Bioinformatics - available at https://github.com/kipkurui/Python4BioinformaticsV2.\n</i></small></small>\n\n## Data Analysis with Pandas\n\nFor this topic, we are going to use resources available from Data carpentry's [Python for Ecologists](http://www.datacarpentry.org/python-ecology-lesson/). \n\n\n### Set up\n\nEnsure you have installed `pandas` and `matplotlib` before the session. \n\n`conda install pandas`\n\nFollow the instructions provided [here](http://www.datacarpentry.org/python-ecology-lesson/setup) for further details on setting up, and to download the data. \n\n### Some useful resources\n\n1. [10 Minutes Pandas](https://pandas.pydata.org/pandas-docs/stable/10min.html) provides a quick introduction to pandas Data Types and syntax\n2. Dataquest's [Pandas Tutorial: Data analysis with Python: Part 1](https://www.dataquest.io/blog/pandas-python-tutorial/)\n3. Coding Club's [Python Data Analysis with Pandas and Matplotlib](https://ourcodingclub.github.io/2018/04/18/pandas-python-intro.html)\n\n### Training format\n\nIn this lesson, we will use live coding to follow along with Python for Ecologist's resources. "
  },
  {
   "cell_type": "code",
   "execution_count": 2,
   "metadata": {},
   "outputs": [],
   "source": [
    "import pandas as pd"
   ]
  }
 ],
 "metadata": {
  "kernelspec": {
   "display_name": "Python 3",
   "language": "python",
   "name": "python3"
  },
  "language_info": {
   "codemirror_mode": {
    "name": "ipython",
    "version": 3
   },
   "file_extension": ".py",
   "mimetype": "text/x-python",
   "name": "python",
   "nbconvert_exporter": "python",
   "pygments_lexer": "ipython3",
   "version": "3.6.4"
  }
 },
 "nbformat": 4,
 "nbformat_minor": 2
}