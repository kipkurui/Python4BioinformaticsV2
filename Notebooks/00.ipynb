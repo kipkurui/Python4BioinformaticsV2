{
 "cells": [
  {
   "cell_type": "markdown",
   "metadata": {},
   "source": "# Python For Bioinformatics\n\nIntroduction to Python for Bioinformatics - available at https://github.com/kipkurui/Python4BioinformaticsV2.\n\n<small><small><i>\n\n## Attribution\nThese tutorials are an adaptation of the Introduction to Python for Maths by [Andreas Ernst](http://users.monash.edu.au/~andreas), available from https://gitlab.erc.monash.edu.au/andrease/Python4Maths.git. The original version was written by Rajath Kumar and is available at https://github.com/rajathkumarmp/Python-Lectures.\n\nThese notes have been greatly amended and updated for the MSC Bioinformatics and Molecular Biology at Pwani university, sponsored by EANBiT by [Caleb Kibet](https://twitter.com/calkibet)\n</small></small></i>\n\n# Quick Introduction to Jupyter Notebooks\n\nThroughout this course, we will be using Jupyter Notebooks. Although the HPC you will be using will have Jupyter setup, these notes are provided if you want to set it up on your computer. \n\n## Introduction\nThe Jupyter Notebook is an interactive computing environment that enables users to author notebooks, which contain a complete and self-contained record of a computation. These notebooks can be shared more efficiently. The notebooks may contain:\n* Live code\n* Interactive widgets\n* Plots\n* Narrative text\n* Equations\n* Images\n* Video\n\nIt is good to note that \"Jupyter\" is a loose acronym meaning Julia, Python, and R; the primary languages supported by Jupyter. \n\nThe notebook can allow a computational researcher to create reproducible documentation of their research. As Bioinformatics is data-centric, use of Jupyter Notebooks increases research transparency, hence promoting open science. \n\n## First Steps\n\n### Installation\n\n1. [Download Miniconda](https://www.anaconda.com/download/) for your specific OS to your home directory\n    - Linux: `wget https://repo.continuum.io/miniconda/Miniconda3-latest-Linux-x86_64.sh`\n    - Mac: `curl https://repo.continuum.io/miniconda/Miniconda3-latest-MacOSX-x86_64.sh`\n2. Run:\n    - `bash Miniconda3-latest-Linux-x86_64.sh`\n    - `bash Miniconda3-latest-MacOSX-x86_64.sh`\n3. Follow all the prompts: if unsure, accept defaults\n4. Close and re-open your terminal\n5. If the installation is successful, you should see a list of installed packages with\n    - `conda list`\nIf the command cannot be found, you can add Anaconda bin to the path using:\n    ` export PATH=~/anaconda3/bin:$PATH`\n\nFor reproducible analysis, you can [create a conda environment](https://conda.io/docs/user-guide/tasks/manage-environments.html) with all the Python packages you used.\n\n    `conda create --name python4bioinformatics python=3.13 jupyter`\n    \nTo activate the conda environment:\n    `conda activate python4bioinformatics`\n\nOr use the provided environment.yml file:\n    `conda env create -f environment.yml`\n\nHaving set-up conda environment, you can install any package you need using conda or pip. \n\n`conda install jupyter`\n`conda install -c conda-forge jupyterlab`\n\nor by using pip\n\n`pip3 install jupyter`\n\nThen you can quickly launch it using:\n\n`jupyter notebook` or `jupyter lab`\n\nNB: We will use Jupyter Lab for training. \n\n\nA Jupyter notebook is made up of many cells. Each cell can contain Python code. You can execute a cell by clicking on it and pressing `Shift-Enter` or `Ctrl-Enter` (run without moving to the next line). \n\n### Further help\n\nTo learn more about Jupyter notebooks, check [the official introduction](http://nbviewer.jupyter.org/github/jupyter/notebook/blob/master/docs/source/examples/Notebook/Notebook%20Basics.ipynb) and [some useful Jupyter Tricks](https://www.dataquest.io/blog/jupyter-notebook-tips-tricks-shortcuts/). \n\nBook: http://www.ict.ru.ac.za/Resources/cspw/thinkcspy3/thinkcspy3.pdf\n\n# Python for Bioinformatics\n\n## Introduction\n\nPython is a modern, robust, high-level programming language. It is straightforward to pick up even if you are entirely new to programming. \n\nPython, similar to other languages like Matlab or R, is interpreted hence runs slowly compared to C++, Fortran or Java. However, writing programs in Python is very quick. Python has an extensive collection of libraries for everything from scientific computing to web services. It supports object-oriented and functional programming with a module system that allows large and complex applications to be developed in Python. \n\nThese lectures are using Jupyter notebooks which mix Python code with documentation. The python notebooks can be run on a web server or stand-alone on a computer.\n\n\n## Contents\n\nThis course is broken up into a number of notebooks (lectures).\n### Session 1\n* [01](01.ipynb) Basic data types and operations (numbers, strings) \n* [02](02.ipynb) String manipulation \n\n### Session 2\n* [03](03.ipynb) Data structures: Lists and Tuples\n* [04](04.ipynb) Data structures (continued): dictionaries\n\n### Session 3\n* [05](05.ipynb) Control statements: if, for, while, try statements\n* [06](06.ipynb) Functions\n* [07](07.ipynb) Files, Scripting and Modules\n### Session 4\n* [08](08.ipynb) Data Analysis and plotting with Pandas\n* [09](09.ipynb) Reproducible Bioinformatics Research\n* [10](10.ipynb) Introduction to Biopython\n\nThis is a tutorial style introduction to Python. For a quick reminder/summary of Python syntax, the following [Quick Reference Card](http://www.cs.put.poznan.pl/csobaniec/software/python/py-qrc.html) may be useful. A longer and more detailed tutorial style introduction to python is available from the python site at: https://docs.python.org/3/tutorial/.\n\n\n## How to learn from this resource?\n\nDownload all the notebooks from [Python4BioinformaticsV2](https://github.com/kipkurui/Python4BioinformaticsV2). The easiest way to do that is to clone the GitHub repository to your working directory using any of the following commands:\n\n    git clone https://github.com/kipkurui/Python4BioinformaticsV2.git\n\nor\n\n    wget https://github.com/kipkurui/Python4BioinformaticsV2/archive/master.zip\n    \n    unzip master.zip\n    \n    rm master.zip\n    \n\n## How to Contribute\n\nTo contribute, fork the repository, make some updates and send me a pull request. \n\nAlternatively, you can open an issue. \n\n## License\nThis work is licensed under the Creative Commons Attribution 3.0 Unported License. To view a copy of this license, visit http://creativecommons.org/licenses/by/3.0/.\n\n"
  },
  {
   "cell_type": "code",
   "execution_count": null,
   "metadata": {},
   "outputs": [],
   "source": []
  }
 ],
 "metadata": {
  "kernelspec": {
   "display_name": "Python 3",
   "language": "python",
   "name": "python3"
  },
  "language_info": {
   "codemirror_mode": {
    "name": "ipython",
    "version": 3
   },
   "file_extension": ".py",
   "mimetype": "text/x-python",
   "name": "python",
   "nbconvert_exporter": "python",
   "pygments_lexer": "ipython3",
   "version": "3.7.8"
  }
 },
 "nbformat": 4,
 "nbformat_minor": 4
}