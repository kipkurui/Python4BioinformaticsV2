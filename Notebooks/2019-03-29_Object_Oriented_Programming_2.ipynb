{
 "cells": [
  {
   "cell_type": "markdown",
   "metadata": {},
   "source": [
    "# OOP continued"
   ]
  },
  {
   "cell_type": "markdown",
   "metadata": {},
   "source": [
    "## More on Class Methods: Operators\n",
    "\n",
    "Most of the traditional arithmatic operators we use in python are actually methods..."
   ]
  },
  {
   "cell_type": "code",
   "execution_count": null,
   "metadata": {},
   "outputs": [],
   "source": [
    "1 + 1"
   ]
  },
  {
   "cell_type": "code",
   "execution_count": null,
   "metadata": {},
   "outputs": [],
   "source": [
    "import operator"
   ]
  },
  {
   "cell_type": "code",
   "execution_count": null,
   "metadata": {},
   "outputs": [],
   "source": [
    "operator.add(1,1)"
   ]
  },
  {
   "cell_type": "code",
   "execution_count": null,
   "metadata": {},
   "outputs": [],
   "source": [
    "a = 1\n",
    "a.__add__(1)"
   ]
  },
  {
   "cell_type": "markdown",
   "metadata": {},
   "source": [
    "What happens when you multiply a vector times a scalar?"
   ]
  },
  {
   "cell_type": "code",
   "execution_count": null,
   "metadata": {},
   "outputs": [],
   "source": [
    "v = [1, 2, 5, 2, 3]"
   ]
  },
  {
   "cell_type": "code",
   "execution_count": null,
   "metadata": {},
   "outputs": [],
   "source": [
    "v * 2"
   ]
  },
  {
   "cell_type": "code",
   "execution_count": null,
   "metadata": {},
   "outputs": [],
   "source": [
    "v.__mul__(2)"
   ]
  },
  {
   "cell_type": "code",
   "execution_count": null,
   "metadata": {},
   "outputs": [],
   "source": [
    "v = (1, 2, 5, 2, 3)"
   ]
  },
  {
   "cell_type": "code",
   "execution_count": null,
   "metadata": {},
   "outputs": [],
   "source": [
    "v * 2"
   ]
  },
  {
   "cell_type": "markdown",
   "metadata": {},
   "source": [
    "**Why does it do this?**\n",
    "\n",
    "Arbitrary choice: in this case perhaps because of the analogy with strings, or because our lists can have any objects in them, and this is the only thing that always makes sense"
   ]
  },
  {
   "cell_type": "code",
   "execution_count": null,
   "metadata": {},
   "outputs": [],
   "source": []
  },
  {
   "cell_type": "markdown",
   "metadata": {},
   "source": [
    "## Other ideas for abstractions"
   ]
  },
  {
   "cell_type": "markdown",
   "metadata": {},
   "source": [
    "Numpy makes different choices: multiplying its arrays multiplies each element."
   ]
  },
  {
   "cell_type": "code",
   "execution_count": null,
   "metadata": {},
   "outputs": [],
   "source": [
    "import numpy as np"
   ]
  },
  {
   "cell_type": "code",
   "execution_count": null,
   "metadata": {},
   "outputs": [],
   "source": [
    "u = np.array([1, 2, 5, 2, 3])"
   ]
  },
  {
   "cell_type": "code",
   "execution_count": null,
   "metadata": {},
   "outputs": [],
   "source": [
    "u"
   ]
  },
  {
   "cell_type": "code",
   "execution_count": null,
   "metadata": {},
   "outputs": [],
   "source": []
  },
  {
   "cell_type": "code",
   "execution_count": null,
   "metadata": {},
   "outputs": [],
   "source": [
    "u * u"
   ]
  },
  {
   "cell_type": "markdown",
   "metadata": {},
   "source": [
    "# Adding operators to Classes\n",
    "\n",
    "Let's try to recreate a part of the array behavior for `np.array` with a new vector class.\n",
    "\n",
    "We will define `__mul__` and `__add__` to implement element-wise multiplication and addition."
   ]
  },
  {
   "cell_type": "code",
   "execution_count": null,
   "metadata": {},
   "outputs": [],
   "source": [
    "class Vector:\n",
    "\n"
   ]
  },
  {
   "cell_type": "code",
   "execution_count": null,
   "metadata": {},
   "outputs": [],
   "source": [
    "v = Vector([1, 2, 5, 2, 3])"
   ]
  },
  {
   "cell_type": "code",
   "execution_count": null,
   "metadata": {},
   "outputs": [],
   "source": [
    "v.values"
   ]
  },
  {
   "cell_type": "code",
   "execution_count": null,
   "metadata": {},
   "outputs": [],
   "source": []
  },
  {
   "cell_type": "markdown",
   "metadata": {},
   "source": [
    "## One more special method: __repr__\n",
    "\n",
    "`__repr__` tells how to print when it is returned the method, so we can get away from the ugly default we keep seeing.\n",
    "\n",
    "(There is also a `__str__` method that tells how the object should be printed.)"
   ]
  },
  {
   "cell_type": "code",
   "execution_count": null,
   "metadata": {},
   "outputs": [],
   "source": [
    "class Vector:\n",
    "    def __init__(self, values):\n",
    "\n",
    "\n",
    "    \n"
   ]
  },
  {
   "cell_type": "code",
   "execution_count": null,
   "metadata": {},
   "outputs": [],
   "source": [
    "v = Vector([1, 2, 5, 2, 3])"
   ]
  },
  {
   "cell_type": "code",
   "execution_count": null,
   "metadata": {},
   "outputs": [],
   "source": [
    "v * 2"
   ]
  },
  {
   "cell_type": "markdown",
   "metadata": {},
   "source": [
    "## Simulations and Animations"
   ]
  },
  {
   "cell_type": "markdown",
   "metadata": {},
   "source": [
    "The other versions of CS1, **CS110: Introduction to Computing**, work on this paradigm most of the semester."
   ]
  },
  {
   "cell_type": "code",
   "execution_count": null,
   "metadata": {},
   "outputs": [],
   "source": [
    "from calysto.zgraphics import *\n",
    "from IPython.display import display, clear_output\n",
    "import time"
   ]
  },
  {
   "cell_type": "code",
   "execution_count": null,
   "metadata": {},
   "outputs": [],
   "source": [
    "win = GraphWin()\n",
    "\n",
    "p = Point(50, 60)"
   ]
  },
  {
   "cell_type": "code",
   "execution_count": null,
   "metadata": {},
   "outputs": [],
   "source": [
    "p.getX()"
   ]
  },
  {
   "cell_type": "code",
   "execution_count": null,
   "metadata": {},
   "outputs": [],
   "source": [
    "p.draw(win)"
   ]
  },
  {
   "cell_type": "code",
   "execution_count": null,
   "metadata": {},
   "outputs": [],
   "source": [
    "p2 = Point(140, 100)"
   ]
  },
  {
   "cell_type": "code",
   "execution_count": null,
   "metadata": {},
   "outputs": [],
   "source": [
    "p2.draw(win)"
   ]
  },
  {
   "cell_type": "code",
   "execution_count": null,
   "metadata": {},
   "outputs": [],
   "source": [
    "win = GraphWin(\"Shapes\")"
   ]
  },
  {
   "cell_type": "code",
   "execution_count": null,
   "metadata": {},
   "outputs": [],
   "source": [
    "center = Point(100, 100)"
   ]
  },
  {
   "cell_type": "code",
   "execution_count": null,
   "metadata": {},
   "outputs": [],
   "source": [
    "circ = Circle(center, 30)"
   ]
  },
  {
   "cell_type": "code",
   "execution_count": null,
   "metadata": {},
   "outputs": [],
   "source": [
    "circ.setFill(\"red\")"
   ]
  },
  {
   "cell_type": "code",
   "execution_count": null,
   "metadata": {},
   "outputs": [],
   "source": [
    "circ.draw(win)"
   ]
  },
  {
   "cell_type": "code",
   "execution_count": null,
   "metadata": {},
   "outputs": [],
   "source": [
    "label = Text(center, \"Red Circle\")"
   ]
  },
  {
   "cell_type": "code",
   "execution_count": null,
   "metadata": {},
   "outputs": [],
   "source": [
    "label.draw(win)"
   ]
  },
  {
   "cell_type": "code",
   "execution_count": null,
   "metadata": {},
   "outputs": [],
   "source": [
    "rect = Rectangle(Point(30, 30), Point(70, 70))"
   ]
  },
  {
   "cell_type": "code",
   "execution_count": null,
   "metadata": {},
   "outputs": [],
   "source": [
    "rect.draw(win)\n",
    "rect.setFill(None)\n"
   ]
  },
  {
   "cell_type": "code",
   "execution_count": null,
   "metadata": {},
   "outputs": [],
   "source": [
    "line = Line(Point(20, 30), Point(180, 165))"
   ]
  },
  {
   "cell_type": "code",
   "execution_count": null,
   "metadata": {},
   "outputs": [],
   "source": [
    "line.draw(win)"
   ]
  },
  {
   "cell_type": "code",
   "execution_count": null,
   "metadata": {},
   "outputs": [],
   "source": [
    "oval = Oval(Point(20, 150), Point(180, 199))"
   ]
  },
  {
   "cell_type": "code",
   "execution_count": null,
   "metadata": {},
   "outputs": [],
   "source": [
    "oval.draw(win)"
   ]
  },
  {
   "cell_type": "code",
   "execution_count": null,
   "metadata": {},
   "outputs": [],
   "source": [
    "oval.move(20, 0)"
   ]
  },
  {
   "cell_type": "code",
   "execution_count": null,
   "metadata": {},
   "outputs": [],
   "source": [
    "oval.move(20, 0)"
   ]
  },
  {
   "cell_type": "code",
   "execution_count": null,
   "metadata": {},
   "outputs": [],
   "source": [
    "circ.move(20, 0)"
   ]
  },
  {
   "cell_type": "code",
   "execution_count": null,
   "metadata": {},
   "outputs": [],
   "source": [
    "class Ball:\n",
    "    def __init__(self, win, x, y):\n",
    "        self.win = win\n",
    "        self.x = x\n",
    "        self.y = y\n",
    "        self.vx = 0.0\n",
    "        self.vy = 0.0\n",
    "        self.shape = Circle(Point(self.x, self.y), 5)\n",
    "        self.shape.setFill(\"red\")\n",
    "        self.shape.draw(self.win)\n",
    "\n",
    "    def update(self):\n",
    "        self.shape.move(self.vx, self.vy)"
   ]
  },
  {
   "cell_type": "code",
   "execution_count": null,
   "metadata": {},
   "outputs": [],
   "source": [
    "win = GraphWin(\"Animation\")\n",
    "ball_1 = Ball(win, 150, 0)"
   ]
  },
  {
   "cell_type": "code",
   "execution_count": null,
   "metadata": {},
   "outputs": [],
   "source": [
    "ball_1.update()"
   ]
  },
  {
   "cell_type": "code",
   "execution_count": null,
   "metadata": {},
   "outputs": [],
   "source": [
    "ball_1.vx = 10\n",
    "ball_1.vy = 10"
   ]
  },
  {
   "cell_type": "code",
   "execution_count": null,
   "metadata": {},
   "outputs": [],
   "source": [
    "for t in range(10):\n",
    "    ball_1.update()\n",
    "    clear_output(wait=True)\n",
    "    display(win)\n",
    "    time.sleep(.1)"
   ]
  },
  {
   "cell_type": "code",
   "execution_count": null,
   "metadata": {},
   "outputs": [],
   "source": [
    "class Ball:\n",
    "    def __init__(self, win, x, y):\n",
    "        self.win = win\n",
    "        self.x = x\n",
    "        self.y = y\n",
    "        self.vx = 0.0\n",
    "        self.vy = 0.0\n",
    "        self.shape = Circle(Point(self.x, self.y), 5)\n",
    "        self.shape.setFill(\"red\")\n",
    "        self.shape.draw(self.win)\n",
    "\n",
    "    def update(self):\n",
    "        self.x += self.vx\n",
    "        self.y += self.vy\n",
    "        if self.x < 0:\n",
    "            self.vx *= -1\n",
    "            self.x = 0\n",
    "        if self.x > self.win.size[0]:\n",
    "            self.vx *= -1\n",
    "            self.x = self.win.size[0]\n",
    "        if self.y < 0:\n",
    "            self.vy *= -1\n",
    "            self.y = 0\n",
    "        if self.y > self.win.size[1]:\n",
    "            self.vy *= -1\n",
    "            self.y = self.win.size[1]\n",
    "        self.shape.moveTo((self.x, self.y))"
   ]
  },
  {
   "cell_type": "code",
   "execution_count": null,
   "metadata": {},
   "outputs": [],
   "source": [
    "win.size"
   ]
  },
  {
   "cell_type": "code",
   "execution_count": null,
   "metadata": {},
   "outputs": [],
   "source": [
    "win = GraphWin(\"Animation\", 300, 500)\n",
    "ball_1 = Ball(win, 150, 0)\n",
    "ball_2 = Ball(win, 150, 0)\n",
    "\n",
    "ball_1.vx, ball_1.vy = 0, 10\n",
    "ball_2.vx, ball_2.vy = 10, 10"
   ]
  },
  {
   "cell_type": "code",
   "execution_count": null,
   "metadata": {},
   "outputs": [],
   "source": [
    "for t in range(100):\n",
    "    ball_1.update()\n",
    "    ball_2.update()\n",
    "    clear_output(wait=True)\n",
    "    display(win)\n",
    "    time.sleep(.1)"
   ]
  },
  {
   "cell_type": "code",
   "execution_count": null,
   "metadata": {},
   "outputs": [],
   "source": [
    "while True:\n",
    "    ball_1.update()\n",
    "    ball_2.update()\n",
    "    clear_output(wait=True)\n",
    "    display(win)\n",
    "    time.sleep(.1)"
   ]
  },
  {
   "cell_type": "code",
   "execution_count": null,
   "metadata": {},
   "outputs": [],
   "source": [
    "class Ball:\n",
    "    def __init__(self, win, x, y):\n",
    "        self.win = win\n",
    "        self.x = x\n",
    "        self.y = y\n",
    "        self.vx = 0.0\n",
    "        self.vy = 0.0\n",
    "        self.shape = Circle(Point(self.x, self.y), 5)\n",
    "        self.shape.setFill(\"red\")\n",
    "        self.shape.draw(self.win)\n",
    "\n",
    "    def update(self):\n",
    "        self.vy += 9.8 ## 9.8 * dt\n",
    "        self.x += self.vx\n",
    "        self.y += self.vy\n",
    "        if self.x < 0:\n",
    "            self.vx *= -1\n",
    "            self.x = 0\n",
    "        if self.x > self.win.size[0]:\n",
    "            self.vx *= -1\n",
    "            self.x = self.win.size[0]\n",
    "        if self.y < 0:\n",
    "            self.vy *= -1\n",
    "            self.y = 0\n",
    "        if self.y > self.win.size[1]:\n",
    "            self.vy *= -1\n",
    "            self.y = self.win.size[1]\n",
    "        self.shape.moveTo((self.x, self.y))"
   ]
  },
  {
   "cell_type": "code",
   "execution_count": null,
   "metadata": {},
   "outputs": [],
   "source": [
    "win = GraphWin(\"Animation\", 300, 500)\n",
    "ball_1 = Ball(win, 150, 0)\n",
    "ball_2 = Ball(win, 150, 0)\n",
    "\n",
    "ball_1.vx, ball_1.vy = 0, 10\n",
    "ball_2.vx, ball_2.vy = 10, 10"
   ]
  },
  {
   "cell_type": "code",
   "execution_count": null,
   "metadata": {},
   "outputs": [],
   "source": [
    "while True:\n",
    "    try:\n",
    "        ball1.update()\n",
    "        ball2.update()\n",
    "        time.sleep(.1)\n",
    "        clear_output(wait=True)\n",
    "        display(win)\n",
    "    except KeyboardInterrupt:\n",
    "        break"
   ]
  },
  {
   "cell_type": "markdown",
   "metadata": {},
   "source": [
    "# Pair Programming"
   ]
  },
  {
   "cell_type": "markdown",
   "metadata": {},
   "source": [
    "There are other shapes besides Circle, including:\n",
    "\n",
    "* Line\n",
    "* Polygon\n",
    "* Ellipse\n",
    "* Rectangle\n",
    "* Arc\n",
    "* Text\n",
    "* Turtle\n",
    "\n",
    "```python\n",
    "win = GraphWin(\"Title\", width, height)\n",
    "line = Line(Point(x1, y1), Point(x2, y2))\n",
    "line.draw(win)\n",
    "win\n",
    "```"
   ]
  },
  {
   "cell_type": "markdown",
   "metadata": {},
   "source": [
    "**Try using these shapes instead of Circle.**\n",
    "\n",
    "You can change the color of a shape by:\n",
    "\n",
    "```python\n",
    "shape = Circle(Point(x, y), radius)\n",
    "shape.setFill(\"color_name\") ## OR\n",
    "shape.setFill(Color(r, g, b))\n",
    "```"
   ]
  },
  {
   "cell_type": "markdown",
   "metadata": {},
   "source": [
    "Where r, g, and b are values between 0 and 255. \n",
    "\n",
    "**Can you make ball1 be red, and ball2 be blue?**"
   ]
  }
 ],
 "metadata": {
  "kernelspec": {
   "display_name": "Python 3 (ipykernel)",
   "language": "python",
   "name": "python3"
  },
  "language_info": {
   "codemirror_mode": {
    "name": "ipython",
    "version": 3
   },
   "file_extension": ".py",
   "mimetype": "text/x-python",
   "name": "python",
   "nbconvert_exporter": "python",
   "pygments_lexer": "ipython3",
   "version": "3.11.4"
  }
 },
 "nbformat": 4,
 "nbformat_minor": 4
}
