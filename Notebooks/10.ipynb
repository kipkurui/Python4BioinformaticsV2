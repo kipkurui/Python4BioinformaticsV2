{
 "cells": [
  {
   "cell_type": "markdown",
   "metadata": {},
   "source": [
    "<small><small><i>\n",
    "Introduction to Python for Bioinformatics - available at https://github.com/kipkurui/Python4Bioinformatics.\n",
    "</i></small></small>\n",
    "\n",
    "## Introduction to Biopython\n",
    "\n",
    "Biopython is a set of tools or python packages for Computational Biology. Since some of the tasks are common and repetitive, these tools help reduce wheel reinvention, especially when parsing file formats. \n",
    "\n",
    "Bipython is an example of an open source project, developed by a team of international collaborators and hosted in GitHub:  https://github.com/biopython/biopython. \n",
    "\n",
    "In this lecture, we introduce Biopython and demonstrate how some we can utilize in Bioinformatics data analysis. \n",
    "\n",
    "### First we install Biopython\n",
    "\n",
    "For this, we use the conda package manager\n",
    "\n",
    "`conda install biopython`\n",
    "\n",
    "### Learning Resources\n",
    "\n",
    "The focus of this lecture is to give you an overview of what you can do with Biopython, and whet your appetite to learn further. At this stage of your learning, I encourage you to write your own scripts for genomic sequence parsing for better learning. \n",
    "\n",
    "When you are ready to dive deeper, here are some resources you will find useful:\n",
    "1. [Biopython documentation](https://biopython.org/wiki/Documentation)\n",
    "2. [Biopython cookbook](http://biopython.org/DIST/docs/tutorial/Tutorial.html)\n",
    "\n",
    "Then we can test if the package was successfully installed:"
   ]
  },
  {
   "cell_type": "code",
   "execution_count": 4,
   "metadata": {},
   "outputs": [],
   "source": [
    "import Bio"
   ]
  },
  {
   "cell_type": "code",
   "execution_count": 8,
   "metadata": {},
   "outputs": [
    {
     "data": {
      "text/plain": [
       "'1.72'"
      ]
     },
     "execution_count": 8,
     "metadata": {},
     "output_type": "execute_result"
    }
   ],
   "source": [
    "Bio.__version__"
   ]
  },
  {
   "cell_type": "markdown",
   "metadata": {},
   "source": [
    "### Alphabet\n",
    "\n",
    "With the latest version installed, now we can explore some of the cool packages available in Biopython. Let's start with the basics for dealing with genomic alphabet. "
   ]
  },
  {
   "cell_type": "code",
   "execution_count": 10,
   "metadata": {},
   "outputs": [],
   "source": [
    "import Bio.Alphabet "
   ]
  },
  {
   "cell_type": "markdown",
   "metadata": {},
   "source": []
  },
  {
   "cell_type": "code",
   "execution_count": 16,
   "metadata": {},
   "outputs": [
    {
     "data": {
      "text/plain": [
       "['Ala',\n",
       " 'Asx',\n",
       " 'Cys',\n",
       " 'Asp',\n",
       " 'Glu',\n",
       " 'Phe',\n",
       " 'Gly',\n",
       " 'His',\n",
       " 'Ile',\n",
       " 'Lys',\n",
       " 'Leu',\n",
       " 'Met',\n",
       " 'Asn',\n",
       " 'Pro',\n",
       " 'Gln',\n",
       " 'Arg',\n",
       " 'Ser',\n",
       " 'Thr',\n",
       " 'Sec',\n",
       " 'Val',\n",
       " 'Trp',\n",
       " 'Xaa',\n",
       " 'Tyr',\n",
       " 'Glx']"
      ]
     },
     "execution_count": 16,
     "metadata": {},
     "output_type": "execute_result"
    }
   ],
   "source": [
    "Bio.Alphabet.ThreeLetterProtein.letters"
   ]
  },
  {
   "cell_type": "markdown",
   "metadata": {},
   "source": [
    "We can easily check the alphabet form the IUPAC module, which stores the internationally defined and accepted alphabet for genomic analysis. "
   ]
  },
  {
   "cell_type": "code",
   "execution_count": 25,
   "metadata": {},
   "outputs": [],
   "source": [
    "from Bio.Alphabet import IUPAC"
   ]
  },
  {
   "cell_type": "code",
   "execution_count": 30,
   "metadata": {},
   "outputs": [
    {
     "data": {
      "text/plain": [
       "'GATCRYWSMKHBVDN'"
      ]
     },
     "execution_count": 30,
     "metadata": {},
     "output_type": "execute_result"
    }
   ],
   "source": [
    "IUPAC.ambiguous_dna.letters"
   ]
  },
  {
   "cell_type": "code",
   "execution_count": 32,
   "metadata": {},
   "outputs": [
    {
     "data": {
      "text/plain": [
       "'GATC'"
      ]
     },
     "execution_count": 32,
     "metadata": {},
     "output_type": "execute_result"
    }
   ],
   "source": [
    "IUPAC.unambiguous_dna.letters"
   ]
  },
  {
   "cell_type": "code",
   "execution_count": 34,
   "metadata": {},
   "outputs": [
    {
     "data": {
      "text/plain": [
       "'ACDEFGHIKLMNPQRSTVWYBXZJUO'"
      ]
     },
     "execution_count": 34,
     "metadata": {},
     "output_type": "execute_result"
    }
   ],
   "source": [
    "IUPAC.extended_protein.letters"
   ]
  },
  {
   "cell_type": "code",
   "execution_count": 1,
   "metadata": {},
   "outputs": [],
   "source": [
    "\n",
    "from Bio.Alphabet import IUPAC"
   ]
  },
  {
   "cell_type": "markdown",
   "metadata": {},
   "source": [
    "### Getting data from Entrenz\n",
    "\n",
    "We can download data from Entrenz using the Biopython modules. Frist we import the tool we'll need. \n"
   ]
  },
  {
   "cell_type": "code",
   "execution_count": null,
   "metadata": {},
   "outputs": [],
   "source": [
    "from Bio import Entrez, Seq, SeqIO"
   ]
  },
  {
   "cell_type": "code",
   "execution_count": 38,
   "metadata": {},
   "outputs": [],
   "source": [
    "Entrez.email = \"put@your_email.here\" \n",
    "hdl = Entrez.efetch(db='nucleotide', id=['NM_002299'], rettype='fasta')  # Lactase gene\n",
    "#for l in hdl:\n",
    "#    print l\n",
    "seq = SeqIO.read(hdl, 'fasta') # we can read the downloaded data into a seq object"
   ]
  },
  {
   "cell_type": "markdown",
   "metadata": {},
   "source": [
    "The SeqRecord `seq` object holds a sequence and information about it.\n",
    "\n",
    "The Seq object also provides some biological methods, such as complement, reverse_complement, transcribe, back_transcribe and translate (which are not applicable to sequences with a protein alphabet)."
   ]
  },
  {
   "cell_type": "code",
   "execution_count": 39,
   "metadata": {},
   "outputs": [
    {
     "data": {
      "text/plain": [
       "SeqRecord(seq=Seq('GAAAATGGAGCTGTCTTGGCATGTAGTCTTTATTGCCCTGCTAAGTTTTTCATG...ATT', SingleLetterAlphabet()), id='NM_002299.4', name='NM_002299.4', description='NM_002299.4 Homo sapiens lactase (LCT), mRNA', dbxrefs=[])"
      ]
     },
     "execution_count": 39,
     "metadata": {},
     "output_type": "execute_result"
    }
   ],
   "source": [
    "w_seq = seq[11:5795]\n",
    "w_seq"
   ]
  },
  {
   "cell_type": "markdown",
   "metadata": {},
   "source": [
    "### Write the sequence to fasta file\n",
    "\n",
    "Now we can use the `SeqIO.write` function to save the file for later use. Remember, you always have to specify the write format."
   ]
  },
  {
   "cell_type": "code",
   "execution_count": 41,
   "metadata": {},
   "outputs": [],
   "source": [
    "with open('../Data/example.fasta', 'w') as w_hdl:\n",
    "    SeqIO.write([w_seq], w_hdl, 'fasta')"
   ]
  },
  {
   "cell_type": "code",
   "execution_count": 48,
   "metadata": {},
   "outputs": [
    {
     "name": "stdout",
     "output_type": "stream",
     "text": [
      "<class 'Bio.SeqRecord.SeqRecord'>\n",
      "NM_002299.4 Homo sapiens lactase (LCT), mRNA\n",
      "GAAAATGGAG\n",
      "SingleLetterAlphabet()\n"
     ]
    }
   ],
   "source": [
    "recs = SeqIO.parse('../Data/example.fasta', 'fasta')\n",
    "for rec in recs:\n",
    "    print(type(rec))\n",
    "    seq = rec.seq\n",
    "    print(rec.description)\n",
    "    print(seq[:10])\n",
    "    print(seq.alphabet)"
   ]
  },
  {
   "cell_type": "code",
   "execution_count": 49,
   "metadata": {},
   "outputs": [
    {
     "name": "stdout",
     "output_type": "stream",
     "text": [
      "GAAAATGGAGCTGTCTTGGCATGTAGTCTTTATTGCCCTGCTAAGTTTTTCATGCTGGGGGTCAGACTGGGAGTCTGATAGAAATTTCATTTCCACCGCTGGTCCTCTAACCAATGACTTGCTGCACAACCTGAGTGGTCTCCTGGGAGACCAGAGTTCTAACTTTGTAGCAGGGGACAAAGACATGTATGTTTGTCACCAGCCACTGCCCACTTTCCTGCCAGAATACTTCAGCAGTCTCCATGCCAGTCAGATCACCCATTATAAGGTATTTCTGTCATGGGCACAGCTCCTCCCAGCAGGAAGCACCCAGAATCCAGACGAGAAAACAGTGCAGTGCTACCGGCGACTCCTCAAGGCCCTCAAGACTGCACGGCTTCAGCCCATGGTCATCCTGCACCACCAGACCCTCCCTGCCAGCACCCTCCGGAGAACCGAAGCCTTTGCTGACCTCTTCGCCGACTATGCCACATTCGCCTTCCACTCCTTCGGGGACCTAGTTGGGATCTGGTTCACCTTCAGTGACTTGGAGGAAGTGATCAAGGAGCTTCCCCACCAGGAATCAAGAGCGTCACAACTCCAGACCCTCAGTGATGCCCACAGAAAAGCCTATGAGATTTACCACGAAAGCTATGCTTTTCAGGGCGGAAAACTCTCTGTTGTCCTGCGAGCTGAAGATATCCCGGAGCTCCTGCTAGAACCACCCATATCTGCGCTTGCCCAGGACACGGTCGATTTCCTCTCTCTTGATTTGTCTTATGAATGCCAAAATGAGGCAAGTCTGCGGCAGAAGCTGAGTAAATTGCAGACCATTGAGCCAAAAGTGAAAGTTTTCATCTTCAACCTAAAACTCCCAGACTGCCCCTCCACCATGAAGAACCCAGCCAGTCTGCTCTTCAGCCTTTTTGAAGCCATAAATAAAGACCAAGTGCTCACCATTGGGTTTGATATTAATGAGTTTCTGAGTTGTTCATCAAGTTCCAAGAAAAGCATGTCTTGTTCTCTGACTGGCAGCCTGGCCCTTCAGCCTGACCAGCAGCAGGACCACGAGACCACGGACTCCTCTCCTGCCTCTGCCTATCAGAGAATCTGGGAAGCATTTGCCAATCAGTCCAGGGCGGAAAGGGATGCCTTCCTGCAGGATACTTTCCCTGAAGGCTTCCTCTGGGGTGCCTCCACAGGAGCCTTTAACGTGGAAGGAGGCTGGGCCGAGGGTGGGAGAGGGGTGAGCATCTGGGATCCACGCAGGCCCCTGAACACCACTGAGGGCCAAGCGACGCTGGAGGTGGCCAGCGACAGTTACCACAAGGTAGCCTCTGACGTCGCCCTGCTTTGCGGCCTCCGGGCTCAGGTGTACAAGTTCTCCATCTCCTGGTCCCGGATCTTCCCCATGGGGCACGGGAGCAGCCCCAGCCTCCCAGGCGTTGCCTACTACAACAAGCTGATTGACAGGCTACAGGATGCGGGCATCGAGCCCATGGCCACGCTGTTCCACTGGGACCTGCCTCAGGCCCTGCAGGATCATGGTGGATGGCAGAATGAGAGCGTGGTGGATGCCTTCCTGGACTATGCGGCCTTCTGCTTCTCCACATTTGGGGACCGTGTGAAGCTGTGGGTGACCTTCCATGAGCCGTGGGTGATGAGCTACGCAGGCTATGGCACCGGCCAGCACCCTCCCGGCATCTCTGACCCAGGAGTGGCCTCTTTTAAGGTGGCTCACTTGGTCCTCAAGGCTCATGCCAGAACTTGGCACCACTACAACAGCCATCATCGCCCACAGCAGCAGGGGCACGTGGGCATTGTGCTGAACTCAGACTGGGCAGAACCCCTGTCTCCAGAGAGGCCTGAGGACCTGAGAGCCTCTGAGCGCTTCTTGCACTTCATGCTGGGCTGGTTTGCACACCCCGTCTTTGTGGATGGAGACTACCCAGCCACCCTGAGGACCCAGATCCAACAGATGAACAGACAGTGCTCCCATCCTGTGGCTCAACTCCCCGAGTTCACAGAGGCAGAGAAGCAGCTCCTGAAAGGCTCTGCTGATTTTCTGGGTCTGTCGCATTACACCTCCCGCCTCATCAGCAACGCCCCACAAAACACCTGCATCCCTAGCTATGATACCATTGGAGGCTTCTCCCAACACGTGAACCATGTGTGGCCCCAGACCTCATCCTCTTGGATTCGTGTGGTGCCCTGGGGGATAAGGAGGCTGTTGCAGTTTGTATCCCTGGAATACACAAGAGGAAAAGTTCCAATATACCTTGCCGGGAATGGCATGCCCATAGGGGAAAGTGAAAATCTCTTTGATGATTCCTTAAGAGTAGACTACTTCAATCAATATATCAATGAGGTGCTCAAGGCTATCAAGGAAGACTCTGTGGATGTTCGTTCCTACATTGCTCGTTCCCTCATTGATGGCTTCGAAGGCCCTTCTGGTTACAGCCAGCGGTTTGGCCTGCACCACGTCAACTTCAGCGACAGCAGCAAGTCAAGGACTCCCAGGAAATCTGCCTACTTTTTCACTAGCATCATAGAAAAGAACGGTTTCCTCACCAAGGGGGCAAAAAGACTGCTACCACCTAATACAGTAAACCTCCCCTCCAAAGTCAGAGCCTTCACTTTTCCATCTGAGGTGCCCTCCAAGGCTAAAGTCGTTTGGGAAAAGTTCTCCAGCCAACCCAAGTTCGAAAGAGATTTGTTCTACCACGGGACGTTTCGGGATGACTTTCTGTGGGGCGTGTCCTCTTCCGCTTATCAGATTGAAGGCGCGTGGGATGCCGATGGCAAAGGCCCCAGCATCTGGGATAACTTTACCCACACACCAGGGAGCAATGTGAAAGACAATGCCACTGGAGACATCGCCTGTGACAGCTATCACCAGCTGGATGCCGATCTGAATATGCTCCGAGCTTTGAAGGTGAAGGCCTACCGCTTCTCTATCTCCTGGTCTCGGATTTTCCCAACTGGGAGAAACAGCTCTATCAACAGTCATGGGGTTGATTATTACAACAGGCTGATCAATGGCTTGGTGGCAAGCAACATCTTTCCCATGGTGACATTGTTCCATTGGGACCTGCCCCAGGCCCTCCAGGATATCGGAGGCTGGGAGAATCCTGCCTTGATTGACTTGTTTGACAGCTACGCAGACTTTTGTTTCCAGACCTTTGGTGATAGAGTCAAGTTTTGGATGACTTTTAATGAGCCCATGTACCTGGCATGGCTAGGTTATGGCTCAGGGGAATTTCCCCCAGGGGTGAAGGACCCAGGCTGGGCACCATATAGGATAGCCCACGCCGTCATCAAAGCCCATGCCAGAGTCTATCACACGTACGATGAGAAATACAGGCAGGAGCAGAAGGGGGTCATCTCGCTGAGCCTCAGTACACACTGGGCAGAGCCCAAGTCACCAGGGGTCCCCAGAGATGTGGAAGCCGCTGACCGAATGCTGCAGTTCTCCCTGGGCTGGTTTGCTCACCCCATTTTTAGAAACGGAGACTATCCTGACACCATGAAGTGGAAAGTGGGGAACAGGAGTGAACTGCAGCACTTAGCCACCTCCCGCCTGCCAAGCTTCACTGAGGAAGAGAAGAGGTTCATCAGGGCGACGGCCGACGTCTTCTGCCTCAACACGTACTACTCCAGAATCGTGCAGCACAAAACACCCAGGCTAAACCCACCCTCCTACGAAGACGACCAGGAGATGGCTGAGGAGGAGGACCCTTCGTGGCCTTCCACGGCAATGAACAGAGCTGCGCCCTGGGGGACGCGAAGGCTGCTGAACTGGATCAAGGAAGAGTATGGTGACATCCCCATTTACATCACCGAAAACGGAGTGGGGCTGACCAATCCGAACACGGAGGATACTGATAGGATATTTTACCACAAAACCTACATCAATGAGGCTTTGAAAGCCTACAGGCTCGATGGTATAGACCTTCGAGGGTATGTCGCCTGGTCTCTGATGGACAACTTTGAGTGGCTAAATGGCTACACGGTCAAGTTTGGACTGTACCATGTTGATTTCAACAACACGAACAGGCCTCGCACAGCAAGAGCCTCCGCCAGGTACTACACAGAGGTCATTACCAACAACGGCATGCCACTGGCCAGGGAGGATGAGTTTCTGTACGGACGGTTTCCTGAGGGCTTCATCTGGAGTGCAGCTTCTGCTGCATATCAGATTGAAGGTGCGTGGAGAGCAGATGGCAAAGGACTCAGCATTTGGGACACGTTTTCTCACACACCACTGAGGGTTGAGAACGATGCCATTGGAGACGTGGCCTGTGACAGTTATCACAAGATTGCTGAGGATCTGGTCACCCTGCAGAACCTGGGCGTGTCCCACTACCGTTTTTCCATCTCCTGGTCTCGCATCCTCCCTGATGGAACCACCAGGTACATCAATGAAGCGGGCCTGAACTACTACGTGAGGCTCATCGATACACTGCTGGCCGCCAGCATCCAGCCCCAGGTGACCATTTACCACTGGGACCTACCACAGACGCTCCAAGATGTAGGAGGCTGGGAGAATGAGACCATCGTGCAGCGGTTTAAGGAGTATGCAGATGTGCTCTTCCAGAGGCTGGGAGACAAGGTGAAGTTTTGGATCACGCTGAATGAGCCCTTTGTCATTGCTTACCAGGGCTATGGCTACGGAACAGCAGCTCCAGGAGTCTCCAATAGGCCTGGCACTGCCCCCTACATTGTTGGCCACAATCTAATAAAGGCTCATGCTGAGGCCTGGCATCTGTACAACGATGTGTACCGCGCCAGTCAAGGTGGCGTGATTTCCATCACCATCAGCAGTGACTGGGCTGAACCCAGAGATCCCTCTAACCAGGAGGATGTGGAGGCAGCCAGGAGATATGTTCAGTTCATGGGAGGCTGGTTTGCACATCCTATTTTCAAGAATGGAGATTACAATGAGGTGATGAAGACGCGGATCCGTGACAGGAGCTTGGCTGCAGGCCTCAACAAGTCTCGGCTGCCAGAATTTACAGAGAGTGAGAAGAGGAGGATCAACGGCACCTATGACTTTTTTGGGTTCAATCACTACACCACTGTCCTCGCCTACAACCTCAACTATGCCACTGCCATCTCTTCTTTTGATGCAGACAGAGGAGTTGCTTCCATCGCAGATCGCTCGTGGCCAGACTCTGGCTCCTTCTGGCTGAAGATGACGCCTTTTGGCTTCAGGAGGATCCTGAACTGGTTAAAGGAGGAATACAATGACCCTCCAATTTATGTCACAGAGAATGGAGTGTCCCAGCGGGAAGAAACAGACCTCAATGACACTGCAAGGATCTACTACCTTCGGACTTACATCAATGAGGCCCTCAAAGCTGTGCAGGACAAGGTGGACCTTCGAGGATACACAGTTTGGAGTGCGATGGACAATTTTGAGTGGGCCACAGGCTTTTCAGAGAGATTTGGTCTGCATTTTGTGAACTACAGTGACCCTTCTCTGCCAAGGATCCCCAAAGCATCAGCGAAGTTCTACGCCTCTGTGGTCCGATGCAATGGCTTCCCTGACCCCGCTACAGGGCCTCACGCTTGTCTCCACCAGCCAGATGCTGGACCCACCATCAGCCCCGTGAGACAGGAGGAGGTGCAGTTCCTGGGGCTAATGCTCGGCACCACAGAAGCACAGACAGCTTTGTACGTTCTCTTTTCTCTTGTGCTTCTTGGAGTCTGTGGCTTGGCATTTCTGTCATACAAGTACTGCAAGCGCTCTAAGCAAGGGAAAACACAACGAAGCCAACAGGAATTGAGCCCGGTGTCTTCATT\n"
     ]
    }
   ],
   "source": [
    "recs = SeqIO.parse('../Data/example.fasta', 'fasta')\n",
    "for rec in recs:\n",
    "    print(rec.seq)"
   ]
  },
  {
   "cell_type": "markdown",
   "metadata": {},
   "source": [
    "Now, let's explore a genbank file"
   ]
  },
  {
   "cell_type": "code",
   "execution_count": 64,
   "metadata": {},
   "outputs": [],
   "source": [
    "records = SeqIO.parse('../Data/Streptomyces_coelicolor.gbk', 'genbank')"
   ]
  },
  {
   "cell_type": "code",
   "execution_count": 65,
   "metadata": {},
   "outputs": [
    {
     "name": "stdout",
     "output_type": "stream",
     "text": [
      "ID: NC_003888.3\n",
      "Name: NC_003888\n",
      "Description: Streptomyces coelicolor A3(2) chromosome, complete genome\n",
      "Database cross-references: BioProject:PRJNA57801\n",
      "Number of features: 25831\n",
      "/molecule_type=DNA\n",
      "/topology=linear\n",
      "/data_file_division=CON\n",
      "/date=17-DEC-2014\n",
      "/accessions=['NC_003888']\n",
      "/sequence_version=3\n",
      "/gi=32141095\n",
      "/keywords=['RefSeq', 'complete genome']\n",
      "/source=Streptomyces coelicolor A3(2)\n",
      "/organism=Streptomyces coelicolor A3(2)\n",
      "/taxonomy=['Bacteria', 'Actinobacteria', 'Actinobacteridae', 'Actinomycetales', 'Streptomycineae', 'Streptomycetaceae', 'Streptomyces', 'Streptomyces albidoflavus group']\n",
      "/references=[Reference(title='Comparative genomics of Streptomyces avermitilis, Streptomyces cattleya, Streptomyces maritimus and Kitasatospora aureofaciens using a Streptomyces coelicolor microarray system', ...), Reference(title='Complete genome sequence of the model actinomycete Streptomyces coelicolor A3(2)', ...), Reference(title='A set of ordered cosmids and a detailed genetic and physical map for the 8 Mb Streptomyces coelicolor A3(2) chromosome', ...), Reference(title='Direct Submission', ...), Reference(title='Direct Submission', ...)]\n",
      "/comment=REVIEWED REFSEQ: This record has been curated by NCBI staff. The\n",
      "reference sequence was derived from AL645882.\n",
      "On Jun 22, 2003 this sequence version replaced gi:31340543.\n",
      "RefSeq Category: Reference Genome\n",
      "            MOD: Model Organism\n",
      "            UPR: UniProt Genome\n",
      "COMPLETENESS: full length.\n",
      "Seq('CCCGCGGAGCGGGTACCACATCGCTGCGCGATGTGCGAGCGAACACCCGGGCTG...GGG', IUPACAmbiguousDNA())\n"
     ]
    }
   ],
   "source": [
    "for record in records:\n",
    "    print(record)"
   ]
  },
  {
   "cell_type": "code",
   "execution_count": 84,
   "metadata": {},
   "outputs": [],
   "source": [
    "for record in records:\n",
    "    coelicolor = record"
   ]
  },
  {
   "cell_type": "markdown",
   "metadata": {},
   "source": [
    "### SeqIO.parse() returns a generator function, not a list\n",
    "\n",
    "As you can see abovem when you run the previous loop again, you do not get any output. This is because the return value of `SeqIO.parse()` is a generator function. It genrates the results on the fly. This is beneficial for large input files where you don’t want to keep the whole file in memory.\n",
    "\n",
    "You have used generator functions before: range() is a generator function as well."
   ]
  },
  {
   "cell_type": "code",
   "execution_count": 87,
   "metadata": {},
   "outputs": [],
   "source": [
    "records = list(SeqIO.parse('../Data/Streptomyces_coelicolor.gbk', 'genbank'))"
   ]
  },
  {
   "cell_type": "markdown",
   "metadata": {},
   "source": [
    "Every record has an id, a name, and a description, though they might be set to “unknown”. Additionally, the annotations attribute contains a dictionary of further annotations."
   ]
  },
  {
   "cell_type": "code",
   "execution_count": 91,
   "metadata": {},
   "outputs": [],
   "source": [
    "coelicolor = records[0]"
   ]
  },
  {
   "cell_type": "code",
   "execution_count": 92,
   "metadata": {},
   "outputs": [
    {
     "data": {
      "text/plain": [
       "'NC_003888.3'"
      ]
     },
     "execution_count": 92,
     "metadata": {},
     "output_type": "execute_result"
    }
   ],
   "source": [
    "coelicolor.id"
   ]
  },
  {
   "cell_type": "code",
   "execution_count": 93,
   "metadata": {},
   "outputs": [
    {
     "data": {
      "text/plain": [
       "Seq('CCCGCGGAGCGGGTACCACATCGCTGCGCGATGTGCGAGCGAACACCCGGGCTG...GGG', IUPACAmbiguousDNA())"
      ]
     },
     "execution_count": 93,
     "metadata": {},
     "output_type": "execute_result"
    }
   ],
   "source": [
    "coelicolor.seq"
   ]
  },
  {
   "cell_type": "markdown",
   "metadata": {},
   "source": [
    "### Records can also contain features\n",
    "\n",
    "Features are sequence features annotated in the record file, if present."
   ]
  },
  {
   "cell_type": "code",
   "execution_count": 96,
   "metadata": {},
   "outputs": [
    {
     "data": {
      "text/plain": [
       "[SeqFeature(FeatureLocation(ExactPosition(0), ExactPosition(8667507), strand=1), type='source'),\n",
       " SeqFeature(FeatureLocation(ExactPosition(0), ExactPosition(21653), strand=1), type='misc_feature'),\n",
       " SeqFeature(FeatureLocation(ExactPosition(434), ExactPosition(440), strand=1), type='regulatory'),\n",
       " SeqFeature(FeatureLocation(ExactPosition(445), ExactPosition(1123), strand=1), type='gene'),\n",
       " SeqFeature(FeatureLocation(ExactPosition(445), ExactPosition(1123), strand=1), type='CDS'),\n",
       " SeqFeature(FeatureLocation(ExactPosition(1237), ExactPosition(1243), strand=1), type='regulatory'),\n",
       " SeqFeature(FeatureLocation(ExactPosition(1251), ExactPosition(3813), strand=1), type='gene'),\n",
       " SeqFeature(FeatureLocation(ExactPosition(1251), ExactPosition(3813), strand=1), type='CDS'),\n",
       " SeqFeature(FeatureLocation(ExactPosition(3868), ExactPosition(6220), strand=1), type='gene'),\n",
       " SeqFeature(FeatureLocation(ExactPosition(3868), ExactPosition(6220), strand=1), type='CDS')]"
      ]
     },
     "execution_count": 96,
     "metadata": {},
     "output_type": "execute_result"
    }
   ],
   "source": [
    "coelicolor.features[:10]"
   ]
  },
  {
   "cell_type": "markdown",
   "metadata": {},
   "source": [
    "### Sequence features have multiple types\n",
    "\n",
    "In theory, the allowed feature types are limited, in practice a lot of tools invent new types on the fly."
   ]
  },
  {
   "cell_type": "code",
   "execution_count": 98,
   "metadata": {},
   "outputs": [
    {
     "name": "stdout",
     "output_type": "stream",
     "text": [
      "source\n",
      "misc_feature\n",
      "regulatory\n",
      "gene\n",
      "CDS\n",
      "regulatory\n",
      "gene\n",
      "CDS\n",
      "gene\n",
      "CDS\n"
     ]
    }
   ],
   "source": [
    "for feature in coelicolor.features[:10]:\n",
    "    print(feature.type)"
   ]
  },
  {
   "cell_type": "markdown",
   "metadata": {},
   "source": [
    "### Features have qualifiers"
   ]
  },
  {
   "cell_type": "code",
   "execution_count": 100,
   "metadata": {},
   "outputs": [
    {
     "name": "stdout",
     "output_type": "stream",
     "text": [
      "Type: CDS\n",
      "Qualifiers: OrderedDict([('locus_tag', ['SCO0001']), ('gene_synonym', ['SCEND.02c']), ('note', ['SCEND.02c, unknown, doubtful CDS, len: 225aa']), ('codon_start', ['1']), ('transl_table', ['11']), ('product', ['hypothetical protein']), ('protein_id', ['NP_624362.1']), ('db_xref', ['GI:21218583', 'GeneID:1095448']), ('translation', ['MTGHHESTGPGTALSSDSTCRVTQYQTAGVNARLRLFALLERRACPRARRTTWWPGRSARWWSWTAWRRLLGVCCVRGRLGRRRDGGERGPGGHRGPGLATARRRSGGATELAVHCADVRQRERADLVRLEGFVRESVLPRAHPHTTARRRVLEVLGEAGSLCTARTVNSDEDYILCTLGVGHYDPDDQPPFKDGKPGWQRAGASIWNGSGAACIPHAAIEGPRK'])])\n"
     ]
    }
   ],
   "source": [
    "for feature in coelicolor.features[:10]:\n",
    "    if feature.type == 'CDS':\n",
    "        break\n",
    "print('Type:', feature.type)\n",
    "print('Qualifiers:', feature.qualifiers)"
   ]
  },
  {
   "cell_type": "markdown",
   "metadata": {},
   "source": [
    "### Qualifiers are lists\n",
    "\n",
    "Even if qualifiers only exist once per feature, Biopython always treats them as lists"
   ]
  },
  {
   "cell_type": "code",
   "execution_count": 101,
   "metadata": {},
   "outputs": [
    {
     "name": "stdout",
     "output_type": "stream",
     "text": [
      "<class 'list'>\n"
     ]
    }
   ],
   "source": [
    "print(type(feature.qualifiers['locus_tag']))"
   ]
  },
  {
   "cell_type": "code",
   "execution_count": 106,
   "metadata": {},
   "outputs": [],
   "source": [
    "tropica = list(SeqIO.parse('../Data/Salinispora_tropica_CNB_440.gbk', 'genbank'))[0]"
   ]
  },
  {
   "cell_type": "code",
   "execution_count": 108,
   "metadata": {},
   "outputs": [
    {
     "name": "stdout",
     "output_type": "stream",
     "text": [
      ">STROP_RS00005\n",
      "GTGACGGATACAACCGACCTCGCCGCGGTGTGGACGGCAACGACCGACGAGTTGGCCGACGAGATCGTCTCTGCCCAGCAGCGGGCCTATCTGCGACTGACCCGCCTCCGCGCCATCGTCGAGGACACCGCGCTCGTCTCCGTCCCGGACGCCTTCACCCGAGATGTCATCGAGTCCCGGCTCCGCCCGGCGATCACCGAGGCCCTCACCCGCCGGCTGGGGCGCCCCATCCAGGTGGCGGTCACGGTGCGAGCACCGGAAGACGCCCCCGGCCGCCCGGCCGGCACCATCTACCACAGCGCCCCGAGCCCGGAGACCGGCGCGTTGCCCGGCGACACCACCGACCGCGCCGCGGGAGGGGGCCCGGACGACGGCGTGGACCACAGGTTCCCGCTGATCCCCGGGCAGGCCCAACCGGAGCGCCGCACTGCGGCGCCCGCTGGTTCGTACGGCGAGCAGACGACGCCGATGTCCCGGGACAGCCAGGAGCCGTTGTTCAGCTCCGCCTTCGCCGGGCCGCCCCGAGGCGAGCGTCACGATGTTGACGAGCAGGCCCGGCTGGGCCCACCGGTGACCGAACGCCCGTTCGAGGCCCACTACCGAGCAGAGGGGGCGGACCAGCACGGGGGGCGGGCCCTGCCCCGGGAACTCGGCACCGACAGCGGGCCGGGGAGGGTGGACCACCGACCGGGTGGCCGCGAGGACCGTCGGCCACCGGCACCCGCCGACGGCGGCGGCAACCGGCTCAACCCGAAGTACATGTTCGAGACGTTCGTTATCGGTTCGTCGAACCGATTCGCCCACGCGGCTTCGGTGGCGGTCGCCGAGTCACCGGCGAAGGCGTACAACCCGCTGTTCATCTACGGCAGCTCAGGGCTGGGCAAGACGCACTTGCTGCACGCGATCGGCCACTACGCCACGACGCTCGGCAACGCCAACTCGGTCCGGTACGTCTCGACCGAGGAGTTCACCAACGACTTCATCAACTCGCTGCGCGACGACAAGACCAGCGCCTTCCAGCGCCGGTACCGGGACGTCGACATCCTCCTGATCGACGACATCCAGTTCCTGGAGAACCGGGAGCGGACGCAGGAGGAGTTCTTCCACACCTTCAACACACTGCACAACGCCAACAAGCAGATCGTGATCACCTCCGACCGGTCGCCGAAGCAGCTGGCGACTCTGGAGGACCGGCTGCGGACCCGGTTCGAATGGGGCCTACTCGCCGACATCCAGCCGCCAGACCTGGAGACCCGGATCGCGATCCTCCAGAAGAAAGCCGCCCAGGAACGGCTGTTCGCCCCGCCGGACGTACTGGAGTTCATTGCGTCCCGAGTGTCGAACTCCATCCGAGAACTTGAGGGTGCGCTGATCCGGGTCACCGCGTTCGCCAGCCTCACCCGGTCATCGGTGGAGTTGTCGCTGGCCGAGGAGGTGCTGCGGGACTTCATTCCGGACGGCACCGGGCCAGAGATCACCGCCGACCAGATCATGGTTGCCACCGCCGACTACTTCGGGGTGAGTCTGGAGGACCTGCGCGGGCACTCCCGCTCGCGGGTGCTCGTCAACGCCCGCCAGGTCGCCATGTACCTGTGCCGGGAGCTCACCGACCTGTCGCTGCCCCGAATCGGACAGGCGTTCGGGGGCCGCGACCACACCACGGTCATGCACGCCGACCGCAAGATCCGTCAGCAGATGGCCGAGCGCCGGTCGCTCTACAACCAGATCGCCGAGCTGACCAACCGGATCAAGCAGAACACCTGA\n",
      ">STROP_RS00010\n",
      "ATGAAGTTCCGAGTAGAGCGCGACGCGCTCGCCGAGGCCGTGGCCTGGACCGCGAAAAGCCTGCCGAACCGGCCGTCGGTGCCGGTGCTCGCCGGTGTGCTGCTGCGGGTCACCGACGGCAACCTGCAGGTCTCCGGCTTCGACTACGAGGTCTCCAGCCAGGTGACCGTCGAGGTGCAGGGGGACGCCGACGGCGCCACCCTGGTCTCCGGCCGGCTCCTCGCCGAGATCACCAAGGCGCTGCCGGCGAAACCGGTCGACATCGCGGCGGTCGGCGCTCATCTCGAACTCGTCTGCGGCAGCGCCCGCTTCACTCTGCCCACCATGCCGGTCGAGGACTACCCCACCCTCCCGGAGATGCCGGTCAGCGCTGGCACCATCGACGCCGCCGCGTTCGCCGCCGCCGTTGCCCAGGTAGCCGTGGCAGCCGGCCGGGACGAGACCCTGCCGATGATGACCGGCGTCCGGCTGGAGCTCTCCGGCGGCACGTTGGCCATGCTCGCCACCGATCGCTACCGCCTCGCCCTGCGCGAGATCGAGTGGAACCCGGAAGACCCGGAGATCAGCCTCAACGCGCTGGTACCGGCCCGCACGCTGCATGACACCGCCAAGGCCCTGGGGCCGCTCGGCGGTCAGGTAACCATGGCGCTCTCCCAGGGAGCGGCGGGTGAGGGCATGATCGGTTTTGTCGGCGGCCCCCGCCGCACCACCAGCCGACTGCTTGACGGCGCCAACTACCCGCCGGTGCGCTCCCTCTTCCCCGCCACCCAGAACGCGCAGGCCCAGGTCCCGGTCAGCGCGCTCATCGAGGTCGTCAAGCGGGTCGCGCTCGTCGCCGAACGCACCACTCCGGTGCTGCTGAGCTTCAGCGACGACGGACTGGTGGTCGAGGCCGGTGGCACCGAGGAGGCGCGCGCCAGCGAGGCGATGGAGGCCACCTTCAGCGGTGATCCGCTGACCATCGGCTTCAACCCCCAGTACCTGATCGACGGTCTCTCGAACATGGGGACCCAGTTCGCCGTTCTGTCGTTCGTCGACGCCTTCAAGCCGGCGGTGATTTCTCCCGTCGGCGAGGATGGCGAGGTCGTGCCCGGGTATCGCTACCTCATCATGCCGATCCGCGTTTCCCGCTGA\n",
      ">STROP_RS00015\n",
      "ATGCAGCTCGGCCTGGTAGGGCTCGGCCGCATGGGCGGCAACATGCGTGAGCGGCTGCGCGCCGCTGGGCATGAGGTGATCGGGTACGACAACCAGGCCGAGCTGAGCGACGTCGCGAGCCTGGCGGAGATGGCGAAGAAGCTGGACGCGCCCCGCGCAGTGTGGGTCATGGTCCCTGCCGCCGTCACCGACGAGACCATCACCAAGCTGGCGGAGGTGCTCGACACCGGCGACATCATCGTTGACGGCGGAAACTCGCGGTTCAGCGACGATGCCCCGCGCGCCGAGCGGCTGAACGAGCGCGGCATTGGGTACGTCGATGCCGGGGTTTCCGGGGGCGTTTGGGGCCGACAGAACGGGTACGCCCTCATGGTCGGCGGTGCCAAGGAACACGTTGACCGACTGATGCCGATCTTCGAGGCGCTCAAGCCGGCCGGAGAATTCGGCTTCGTGCACGCCGGGCCGGTCGGTGCCGGACACTACGCCAAGATGGTGCACAACGGCGTCGAGTACGGTCTCATGCACGCCTACGCCGAGGGCTACGAACTGCTCGCCAAGTCCGAGCTGGTCACCGATGTCCCCGGCGTCTTCAAGTCGTGGCGGGAGGGCACGGTCGTCCGCTCCTGGCTGCTCGACCTCCTCGACCGTGCTCTCGACGAGGACCCGAAGCTGGCCGAGCTGAGCCCCTACACGGAGGACACCGGCGAGGGTCGGTGGACCGTGGACGAGGCGGTCCGACTCGCTGTTCCGATGAACGTCATCGCCGCCGCGCTCTTCGCCCGTTTCGCCTCCCGCCAGGACGACTCGCCCGCGATGAAGGCCGTCGCCGCGCTGCGCCAGCAGTTCGGCGGGCACGCCGTTCGCAAGCGCTGA\n",
      ">STROP_RS00020\n",
      "GTGTACGTTCGCCGGCTGGAACTCGTCGACTTCCGCTCGTACGAGCGGGTCGGCGTGGACCTCGAACCAGGGGCGAACGTCCTGGTCGGTCCGAACGGGGTCGGCAAGACCAACCTGATCGAGGCGCTCGGCTACGTGGCGACCCTGGACTCCCACCGGGTCGCCACTGACGCCCCGCTGGTCCGGATGGGTGCCGCCGCGGGGATCATTCGCTGCGCCGTGGTGCATGAGGGCCGGGAGCTACTGGTCGAGTTGGAGATCGTTCCGGGGCGGGCCAACCGGGCCCGGCTCGGTCGGTCCCCGGCCCGGCGGGCCCGGGACGTCCTCGGTGCCCTGCGGCTGGTGCTCTTTGCCCCAGAGGACCTGGAACTGGTCCGGGGCGACCCGGCGCAGCGGCGCCGCTACCTCGACGATCTGCTGGTGCTCCGACAGCCCCGGTACGCCGGGGTGCGGACCGACTACGAGCGGGTGGTCCGGCAGCGGAACGCCCTGCTGCGCACCGCGTACCTGGCGCGCAAGACCGGTGGCACCCGCGGCGGCGACCTCTCCACGCTCGCGGTCTGGGACGACCACCTCGCGCGGCACGGCGCCGAGTTGCTCGCGGGTCGGCTCGACCTCGTCGCCGCGCTCGCCCCCCACGTCAACCGGGCGTACGACGCGGTGGCCGCGGGTGCGGGCGCCGCTGGCATCGCCTACCGGTCGTCGGTCGAGCTGGCCAGTTCGACCGCGGACCGGGCGGACCTGACCGCGGCGCTGAGCGACGCGCTCGCCGCCGGCCGCACAGCCGAGATCGAGCGGGGGACCACCCTGGTCGGCCCGCACCGGGACGAGCTCACCCTGACTCTGGGGCCACTGCCCGCGAAGGGGTACGCCAGCCACGGCGAGTCCTGGTCGTTCGCGCTGGCACTCCGGCTCGCCGGGTACGACCTGCTGCGCGCTGACGGGATCGAGCCGGTGTTGGTGCTGGATGACGTCTTCGCCGAACTGGACACCGGCCGGCGGGATCGCCTCGCCGAGTTGGTCGGTGACGCGAGCCAACTCCTGGTGACCTGCGCGGTGGAGGAGGATCTCCCCGCGCGTCTGCGCGGAGCGCGATTCGTTGTCCGCGAGGGAGAGGTACAGCGTGTCGGATGA\n"
     ]
    }
   ],
   "source": [
    "for feature in tropica.features[:10]:\n",
    "    if feature.type != 'CDS':\n",
    "        continue\n",
    "    protein_seq = feature.extract(tropica.seq)\n",
    "    print('>' + feature.qualifiers['locus_tag'][0])\n",
    "    print(protein_seq)"
   ]
  },
  {
   "cell_type": "code",
   "execution_count": null,
   "metadata": {},
   "outputs": [],
   "source": []
  }
 ],
 "metadata": {
  "kernelspec": {
   "display_name": "Python 3 (ipykernel)",
   "language": "python",
   "name": "python3"
  },
  "language_info": {
   "codemirror_mode": {
    "name": "ipython",
    "version": 3
   },
   "file_extension": ".py",
   "mimetype": "text/x-python",
   "name": "python",
   "nbconvert_exporter": "python",
   "pygments_lexer": "ipython3",
   "version": "3.9.7"
  }
 },
 "nbformat": 4,
 "nbformat_minor": 4
}
