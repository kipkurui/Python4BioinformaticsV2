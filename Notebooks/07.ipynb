{
 "cells": [
  {
   "cell_type": "markdown",
   "metadata": {},
   "source": [
    "<small><small><i>\n",
    "Introduction to Python for Bioinformatics - available at https://github.com/kipkurui/Python4Bioinformatics.\n",
    "</i></small></small>\n",
    "\n",
    "## Files, Scripting and Modules\n",
    "\n",
    "So far, we have been writing all our Python Code in Jupyter notebooks. However, if you want to use the code we have written as part of a pipeline, you need to write scripts. Also, most of the time the data you need to analyse is in a file, which you need to read to Python and process. \n",
    "\n",
    "\n",
    "### Reading Files\n",
    "\n",
    "So far we have been working from memory. In Bioinformatics, you will need to read some file or even write some output to file. We use the `open` function. "
   ]
  },
  {
   "cell_type": "code",
   "execution_count": 3,
   "metadata": {},
   "outputs": [],
   "source": [
    "myfile = open(\"../Data/test.txt\", \"w\")\n",
    "myfile.write(\"My first file written from Python \\n\")\n",
    "myfile.write(\"---------------------------------\\n\")\n",
    "myfile.write(\"Hello, world!\\n\")\n",
    "myfile.close()"
   ]
  },
  {
   "cell_type": "markdown",
   "metadata": {},
   "source": [
    "The **mode** in which you open the file determines whether to write (w), read (r) or append(a) to file. \n",
    "\n",
    "Opening a file creates what we call a **file handle** which contains methods for manipulating the file. In our case, `myfile` has the methods to write and close the file. Closing the file makes it accessible in the disk. \n",
    "\n",
    "Alternatively, one can open the file in a mode that automatically closes the file when done. "
   ]
  },
  {
   "cell_type": "code",
   "execution_count": 2,
   "metadata": {},
   "outputs": [],
   "source": [
    "with open(\"../Data/test.txt\", \"w\") as myfile:\n",
    "    myfile.write(\"My first file written from Python \\n\")\n",
    "    myfile.write(\"---------------------------------\\n\")\n",
    "    myfile.write(\"Hello, world!\\n\")"
   ]
  },
  {
   "cell_type": "markdown",
   "metadata": {},
   "source": [
    "Let's check what else we can do with `open`."
   ]
  },
  {
   "cell_type": "code",
   "execution_count": 3,
   "metadata": {},
   "outputs": [],
   "source": [
    "?open"
   ]
  },
  {
   "cell_type": "markdown",
   "metadata": {},
   "source": [
    "#### Fetching file from the web\n",
    "Download this [file](https://www.uniprot.org/docs/humchrx.txt) we will use to explore file reading in python. "
   ]
  },
  {
   "cell_type": "code",
   "execution_count": 1,
   "metadata": {},
   "outputs": [
    {
     "data": {
      "text/plain": [
       "('../Data/humchrx.txt', <http.client.HTTPMessage at 0x7f09d6720c40>)"
      ]
     },
     "execution_count": 1,
     "metadata": {},
     "output_type": "execute_result"
    }
   ],
   "source": [
    "import urllib.request\n",
    "\n",
    "url = \"https://www.uniprot.org/docs/humchrx.txt\"\n",
    "destination_filename = \"../Data/humchrx.txt\"\n",
    "urllib.request.urlretrieve(url, destination_filename)"
   ]
  },
  {
   "cell_type": "markdown",
   "metadata": {},
   "source": [
    "#### Reading a file line-at-a-time\n",
    "\n",
    "We can read the file line by line using `readline`. Thie reads the line one by one until the end of the file. This is suitable for a large file which may not fit memory. "
   ]
  },
  {
   "cell_type": "code",
   "execution_count": 19,
   "metadata": {},
   "outputs": [
    {
     "name": "stdout",
     "output_type": "stream",
     "text": [
      "----------------------------------------------------------------------------\n",
      "\n"
     ]
    }
   ],
   "source": [
    "humchrx = open('../Data/humchrx.txt', 'r')\n",
    "line = humchrx.readline()\n",
    "print(line)"
   ]
  },
  {
   "cell_type": "code",
   "execution_count": 17,
   "metadata": {},
   "outputs": [],
   "source": [
    "humchrx.close()"
   ]
  },
  {
   "cell_type": "code",
   "execution_count": 11,
   "metadata": {},
   "outputs": [
    {
     "name": "stdout",
     "output_type": "stream",
     "text": [
      "My first file written from Python \n",
      "\n",
      "---------------------------------\n",
      "\n",
      "Hello, world!\n",
      "\n"
     ]
    }
   ],
   "source": [
    "with open('../Data/test.txt', 'r') as myfile:\n",
    "    while True:\n",
    "        line = myfile.readline()\n",
    "        if len(line) == 0: # If there are no more lines\n",
    "            break\n",
    "        print(line)\n",
    "    "
   ]
  },
  {
   "cell_type": "markdown",
   "metadata": {},
   "source": [
    "### Read the whole file\n",
    "\n",
    "If the file is small or PC has enough memory, you can read the whole file into memory as a list using `readlines`."
   ]
  },
  {
   "cell_type": "code",
   "execution_count": 5,
   "metadata": {},
   "outputs": [
    {
     "name": "stdout",
     "output_type": "stream",
     "text": [
      "My first file written from Python \n",
      "\n",
      "---------------------------------\n",
      "\n",
      "Hello, world!\n",
      "\n"
     ]
    }
   ],
   "source": [
    "with open('../Data/test.txt', 'r') as myfile:\n",
    "    lines = myfile.readlines()\n",
    "    for line in lines:\n",
    "        print(line)"
   ]
  },
  {
   "cell_type": "markdown",
   "metadata": {},
   "source": [
    "or as a whole"
   ]
  },
  {
   "cell_type": "code",
   "execution_count": 6,
   "metadata": {},
   "outputs": [
    {
     "name": "stdout",
     "output_type": "stream",
     "text": [
      "My first file written from Python \n",
      "---------------------------------\n",
      "Hello, world!\n",
      "\n"
     ]
    }
   ],
   "source": [
    "with open('../Data/test.txt', 'r') as myfile:\n",
    "    whole_file = myfile.read()\n",
    "    print(whole_file)"
   ]
  },
  {
   "cell_type": "markdown",
   "metadata": {},
   "source": [
    "### Exercise 1\n",
    "\n",
    "Write a function the reads the file (humchr.txt) and writes to another file (gene_names.txt) a clean list of gene names."
   ]
  },
  {
   "cell_type": "markdown",
   "metadata": {},
   "source": [
    "### Scripts and Modules\n",
    "\n",
    "A script is a file containing Python definitions and statements for performing some analysis. Scripts are known as when they are intended for use in other Python programs. Many Python modules come with Python as part of the standard library. \n",
    "\n",
    "You can get a list of available modules using help() and explore them."
   ]
  },
  {
   "cell_type": "markdown",
   "metadata": {},
   "source": [
    "### Writing you own modules\n",
    "\n",
    "All we need to do to create our own modules is to save our script as a file with a `.py` extension. Suppose, for example, this script is saved as a file named `seqtools.py`.\n",
    "\n",
    "```python\n",
    "def remove_at(pos, seq):\n",
    "    return seq[:pos] + seq[pos+1:]```\n",
    "    \n",
    "We can import the module as:"
   ]
  },
  {
   "cell_type": "code",
   "execution_count": 11,
   "metadata": {},
   "outputs": [],
   "source": [
    "import seqtools"
   ]
  },
  {
   "cell_type": "code",
   "execution_count": 12,
   "metadata": {},
   "outputs": [
    {
     "data": {
      "text/plain": [
       "'A sting!'"
      ]
     },
     "execution_count": 12,
     "metadata": {},
     "output_type": "execute_result"
    }
   ],
   "source": [
    "s = \"A string!\"\n",
    "seqtools.remove_at(4,s)"
   ]
  },
  {
   "cell_type": "code",
   "execution_count": 13,
   "metadata": {},
   "outputs": [
    {
     "data": {
      "text/plain": [
       "'23000'"
      ]
     },
     "execution_count": 13,
     "metadata": {},
     "output_type": "execute_result"
    }
   ],
   "source": [
    "'23,000,'.replace(',','')"
   ]
  },
  {
   "cell_type": "markdown",
   "metadata": {},
   "source": [
    "Modules are useful when you want to analyse large data using the HPC or even create your library of handy functions. \n",
    "\n",
    "#### Running scripts\n",
    "\n",
    "When you have put your commands into a .py file, you can execute on the command line by invoking the Python interpreter using `python script.py.`"
   ]
  },
  {
   "cell_type": "markdown",
   "metadata": {},
   "source": [
    "### Exercise 2\n",
    "\n",
    "1. Convert the function you wrote in exercise 1 into a python module. Then, import the module and use the function to read `humchrx.txt` file and create a gene list file.\n",
    "2. Create a stand-alone script that does all the above.\n",
    "\n",
    "\n",
    "### Script that takes command line arguments\n",
    "So far, we can create a script that does one thing. In this case, you have to edit the script if you have a new gene file to analyse or you want to use a different name for the output file.\n",
    "\n",
    "#### sys.argv\n",
    "sys.argv is a list in Python, which contains the command line arguments passed to the script. Lets add this to a script `sysargv.py` and run on the command line. \n",
    "\n",
    "```python\n",
    "import sys\n",
    "print(\"This is the name of the script: \", sys.argv[0])\n",
    "print(\"Number of arguments: \", len(sys.argv))\n",
    "print(\"The arguments are: \" , str(sys.argv))```"
   ]
  },
  {
   "cell_type": "code",
   "execution_count": 14,
   "metadata": {},
   "outputs": [
    {
     "name": "stdout",
     "output_type": "stream",
     "text": [
      "This is the name of the script:  sysargv.py\n",
      "Number of arguments:  2\n",
      "The arguments are:  ['sysargv.py', 'test']\n"
     ]
    }
   ],
   "source": [
    "!python sysargv.py test"
   ]
  },
  {
   "cell_type": "markdown",
   "metadata": {},
   "source": [
    "### Exercise 3\n",
    "\n",
    "- Using the same concept, convert your script in exercise 1 to take command line arguments (input and output files)\n",
    "- Using a DNA sequence read from file, answer the following questions:\n",
    "    1. Show that the DNA string contains only four letters.\n",
    "    2. In the DNA string there are regions that have a repeating letter. What is the letter and length of the longest repeating region?\n",
    "    3. How many ’ATG’s are in the DNA string?"
   ]
  },
  {
   "cell_type": "markdown",
   "metadata": {},
   "source": [
    "### File handling, OS module, Shutil and Path modules\n",
    "\n",
    "Python can also interface directly with the Linux operating system using the **os**, **Shutil** and **path** modules.\n",
    "\n",
    "First, let's import the OS module"
   ]
  },
  {
   "cell_type": "code",
   "execution_count": 15,
   "metadata": {},
   "outputs": [],
   "source": [
    "import os"
   ]
  },
  {
   "cell_type": "code",
   "execution_count": 16,
   "metadata": {},
   "outputs": [
    {
     "data": {
      "text/plain": [
       "'/home/user/Python4Bioinformatics/Intro-to-Python'"
      ]
     },
     "execution_count": 16,
     "metadata": {},
     "output_type": "execute_result"
    }
   ],
   "source": [
    "os.getcwd()"
   ]
  },
  {
   "cell_type": "code",
   "execution_count": 17,
   "metadata": {},
   "outputs": [],
   "source": [
    "os.chdir('..')"
   ]
  },
  {
   "cell_type": "code",
   "execution_count": 18,
   "metadata": {},
   "outputs": [
    {
     "data": {
      "text/plain": [
       "'/home/user/Python4Bioinformatics'"
      ]
     },
     "execution_count": 18,
     "metadata": {},
     "output_type": "execute_result"
    }
   ],
   "source": [
    "os.getcwd()"
   ]
  },
  {
   "cell_type": "code",
   "execution_count": 1,
   "metadata": {},
   "outputs": [
    {
     "ename": "NameError",
     "evalue": "name 'os' is not defined",
     "output_type": "error",
     "traceback": [
      "\u001b[0;31m---------------------------------------------------------------------------\u001b[0m",
      "\u001b[0;31mNameError\u001b[0m                                 Traceback (most recent call last)",
      "\u001b[0;32m/tmp/ipykernel_186433/176495706.py\u001b[0m in \u001b[0;36m<module>\u001b[0;34m\u001b[0m\n\u001b[0;32m----> 1\u001b[0;31m \u001b[0mos\u001b[0m\u001b[0;34m.\u001b[0m\u001b[0mchdir\u001b[0m\u001b[0;34m(\u001b[0m\u001b[0;34m'INotebooks/'\u001b[0m\u001b[0;34m)\u001b[0m\u001b[0;34m\u001b[0m\u001b[0;34m\u001b[0m\u001b[0m\n\u001b[0m",
      "\u001b[0;31mNameError\u001b[0m: name 'os' is not defined"
     ]
    }
   ],
   "source": [
    "os.chdir('INotebooks/')"
   ]
  },
  {
   "cell_type": "code",
   "execution_count": 20,
   "metadata": {},
   "outputs": [],
   "source": [
    "?os"
   ]
  },
  {
   "cell_type": "code",
   "execution_count": 21,
   "metadata": {},
   "outputs": [
    {
     "data": {
      "text/plain": [
       "['execution.png',\n",
       " '05.ipynb',\n",
       " 'genelist.py',\n",
       " 'seqtools.py',\n",
       " '03.ipynb',\n",
       " '00.ipynb',\n",
       " '09.ipynb',\n",
       " '04.ipynb',\n",
       " '02.ipynb',\n",
       " 'bank.py',\n",
       " 'pythonscripts.py',\n",
       " '07.ipynb',\n",
       " '__pycache__',\n",
       " '08.ipynb',\n",
       " '.ipynb_checkpoints',\n",
       " '06.ipynb',\n",
       " 'dnatools.py',\n",
       " '01.ipynb',\n",
       " 'sysargv.py']"
      ]
     },
     "execution_count": 21,
     "metadata": {},
     "output_type": "execute_result"
    }
   ],
   "source": [
    "os.listdir()"
   ]
  },
  {
   "cell_type": "code",
   "execution_count": 22,
   "metadata": {},
   "outputs": [
    {
     "data": {
      "text/plain": [
       "False"
      ]
     },
     "execution_count": 22,
     "metadata": {},
     "output_type": "execute_result"
    }
   ],
   "source": [
    "os.path.isdir('../Scripts/bank.py')"
   ]
  },
  {
   "cell_type": "code",
   "execution_count": 23,
   "metadata": {},
   "outputs": [
    {
     "data": {
      "text/plain": [
       "True"
      ]
     },
     "execution_count": 23,
     "metadata": {},
     "output_type": "execute_result"
    }
   ],
   "source": [
    "os.path.isfile('../Scripts/bank.py')"
   ]
  },
  {
   "cell_type": "markdown",
   "metadata": {},
   "source": [
    "### path manipulation\n",
    "The path module inside the os module contains methods related with path manipulation.For example you can use `path.join()` to join paths. \n",
    "- `path.exists(path):` Checks if a given path exists.\n",
    "- `path.split(path):` Returns a tuple splitting the file or directory name at the end and the rest of the path\n",
    "- `path.splitext(path):` Splits out the extension of a file. It returns a tuple with the dotted extension and the original parameter up to the dot.\n",
    "- `path.join(directory1,directory2,...)`: Join two or more path name components, inserting the operating system path separator as needed"
   ]
  },
  {
   "cell_type": "code",
   "execution_count": 24,
   "metadata": {},
   "outputs": [],
   "source": [
    "?os.path.join()"
   ]
  },
  {
   "cell_type": "markdown",
   "metadata": {},
   "source": [
    "Explore more at your own time.\n",
    "\n",
    "### Shutil\n",
    "Utility functions for copying and archiving files and directory trees."
   ]
  },
  {
   "cell_type": "code",
   "execution_count": 25,
   "metadata": {},
   "outputs": [],
   "source": [
    "import shutil"
   ]
  },
  {
   "cell_type": "code",
   "execution_count": 26,
   "metadata": {},
   "outputs": [],
   "source": [
    "?shutil"
   ]
  }
 ],
 "metadata": {
  "kernelspec": {
   "display_name": "Python 3 (ipykernel)",
   "language": "python",
   "name": "python3"
  },
  "language_info": {
   "codemirror_mode": {
    "name": "ipython",
    "version": 3
   },
   "file_extension": ".py",
   "mimetype": "text/x-python",
   "name": "python",
   "nbconvert_exporter": "python",
   "pygments_lexer": "ipython3",
   "version": "3.9.7"
  },
  "toc-autonumbering": true,
  "toc-showmarkdowntxt": false
 },
 "nbformat": 4,
 "nbformat_minor": 4
}
